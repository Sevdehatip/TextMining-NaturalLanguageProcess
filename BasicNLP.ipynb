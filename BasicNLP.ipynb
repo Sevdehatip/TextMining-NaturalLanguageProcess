{
  "nbformat": 4,
  "nbformat_minor": 0,
  "metadata": {
    "colab": {
      "name": "BasicNLP.ipynb",
      "provenance": []
    },
    "kernelspec": {
      "name": "python3",
      "display_name": "Python 3"
    }
  },
  "cells": [
    {
      "cell_type": "markdown",
      "metadata": {
        "id": "0Fd21E_o7Wk4",
        "colab_type": "text"
      },
      "source": [
        "# **NLP Uygulamaları**"
      ]
    },
    {
      "cell_type": "markdown",
      "metadata": {
        "id": "qJH8QYsI7c9W",
        "colab_type": "text"
      },
      "source": [
        "**N-Gram**"
      ]
    },
    {
      "cell_type": "code",
      "metadata": {
        "id": "1JMc1K097f8Z",
        "colab_type": "code",
        "colab": {}
      },
      "source": [
        "a=\"\"\"Bu örneğin anlaşılabilmesi için daha uzun bir metin üzerinden gösterilecek. N-gram'lar birlikte kullanılan kelimelerin kombinasyonlarını gösterir.\"\"\""
      ],
      "execution_count": 0,
      "outputs": []
    },
    {
      "cell_type": "code",
      "metadata": {
        "id": "7MY2NnnoDLQv",
        "colab_type": "code",
        "colab": {
          "base_uri": "https://localhost:8080/",
          "height": 51
        },
        "outputId": "dd4d499e-652d-4a4c-c08d-428a5796dc1d"
      },
      "source": [
        "!pip install nltk"
      ],
      "execution_count": 2,
      "outputs": [
        {
          "output_type": "stream",
          "text": [
            "Requirement already satisfied: nltk in /usr/local/lib/python3.6/dist-packages (3.2.5)\n",
            "Requirement already satisfied: six in /usr/local/lib/python3.6/dist-packages (from nltk) (1.12.0)\n"
          ],
          "name": "stdout"
        }
      ]
    },
    {
      "cell_type": "code",
      "metadata": {
        "id": "1WB-qKkE8L4V",
        "colab_type": "code",
        "colab": {
          "base_uri": "https://localhost:8080/",
          "height": 68
        },
        "outputId": "da916c6e-5537-4f8e-ab71-70a9e45e7f0d"
      },
      "source": [
        "import nltk\n",
        "nltk.download('punkt')"
      ],
      "execution_count": 3,
      "outputs": [
        {
          "output_type": "stream",
          "text": [
            "[nltk_data] Downloading package punkt to /root/nltk_data...\n",
            "[nltk_data]   Unzipping tokenizers/punkt.zip.\n"
          ],
          "name": "stdout"
        },
        {
          "output_type": "execute_result",
          "data": {
            "text/plain": [
              "True"
            ]
          },
          "metadata": {
            "tags": []
          },
          "execution_count": 3
        }
      ]
    },
    {
      "cell_type": "code",
      "metadata": {
        "id": "yliA_YCt77Xs",
        "colab_type": "code",
        "colab": {}
      },
      "source": [
        "import textblob\n",
        "from textblob import TextBlob"
      ],
      "execution_count": 0,
      "outputs": []
    },
    {
      "cell_type": "code",
      "metadata": {
        "id": "Hvm4QsRv8Aq9",
        "colab_type": "code",
        "colab": {
          "base_uri": "https://localhost:8080/",
          "height": 272
        },
        "outputId": "7fbc054f-3ce4-4d04-add2-c9d32e35887b"
      },
      "source": [
        "TextBlob(a).ngrams(2)  #1-2 2-3 3-4 alır  3 yazıldığında da son iki iki alır."
      ],
      "execution_count": 5,
      "outputs": [
        {
          "output_type": "execute_result",
          "data": {
            "text/plain": [
              "[WordList(['Bu', 'örneğin']),\n",
              " WordList(['örneğin', 'anlaşılabilmesi']),\n",
              " WordList(['anlaşılabilmesi', 'için']),\n",
              " WordList(['için', 'daha']),\n",
              " WordList(['daha', 'uzun']),\n",
              " WordList(['uzun', 'bir']),\n",
              " WordList(['bir', 'metin']),\n",
              " WordList(['metin', 'üzerinden']),\n",
              " WordList(['üzerinden', 'gösterilecek']),\n",
              " WordList(['gösterilecek', \"N-gram'lar\"]),\n",
              " WordList([\"N-gram'lar\", 'birlikte']),\n",
              " WordList(['birlikte', 'kullanılan']),\n",
              " WordList(['kullanılan', 'kelimelerin']),\n",
              " WordList(['kelimelerin', 'kombinasyonlarını']),\n",
              " WordList(['kombinasyonlarını', 'gösterir'])]"
            ]
          },
          "metadata": {
            "tags": []
          },
          "execution_count": 5
        }
      ]
    },
    {
      "cell_type": "markdown",
      "metadata": {
        "id": "LkT-_c0-8fep",
        "colab_type": "text"
      },
      "source": [
        "**Part of speech tagging(POS)**"
      ]
    },
    {
      "cell_type": "code",
      "metadata": {
        "id": "UX4cRyUC8kAr",
        "colab_type": "code",
        "colab": {
          "base_uri": "https://localhost:8080/",
          "height": 85
        },
        "outputId": "d1210768-b798-4af9-c299-6ddb939a442d"
      },
      "source": [
        "#metindeki kelimelerin sıfat zarf isim olma durumlarını tespit etmek içn kullanılır.\n",
        "nltk.download(\"averaged_perceptron_tagger\")"
      ],
      "execution_count": 6,
      "outputs": [
        {
          "output_type": "stream",
          "text": [
            "[nltk_data] Downloading package averaged_perceptron_tagger to\n",
            "[nltk_data]     /root/nltk_data...\n",
            "[nltk_data]   Unzipping taggers/averaged_perceptron_tagger.zip.\n"
          ],
          "name": "stdout"
        },
        {
          "output_type": "execute_result",
          "data": {
            "text/plain": [
              "True"
            ]
          },
          "metadata": {
            "tags": []
          },
          "execution_count": 6
        }
      ]
    },
    {
      "cell_type": "code",
      "metadata": {
        "id": "9_DEtZJg9caQ",
        "colab_type": "code",
        "colab": {}
      },
      "source": [
        "metin=\"\"\"\n",
        "scandal bohemia\n",
        "redheaded league\n",
        "case identity\n",
        "boscombe valley mystery\n",
        "five orange pips\"\"\"\n"
      ],
      "execution_count": 0,
      "outputs": []
    },
    {
      "cell_type": "code",
      "metadata": {
        "id": "0xa0a8WG-8BU",
        "colab_type": "code",
        "colab": {
          "base_uri": "https://localhost:8080/",
          "height": 204
        },
        "outputId": "2c241e3c-b131-42c3-9aa9-ad80d8b19bf9"
      },
      "source": [
        "metin.split(\"\\n\")\n",
        "v_metin=metin.split(\"\\n\")\n",
        "import pandas as pd\n",
        "v=pd.Series(v_metin)\n",
        "\n",
        "metin_vektörü=v[1:len(v)]\n",
        "metin_vektörü\n",
        "mdf=pd.DataFrame(metin_vektörü, columns=[\"hikayeler\"])\n",
        "mdf"
      ],
      "execution_count": 8,
      "outputs": [
        {
          "output_type": "execute_result",
          "data": {
            "text/html": [
              "<div>\n",
              "<style scoped>\n",
              "    .dataframe tbody tr th:only-of-type {\n",
              "        vertical-align: middle;\n",
              "    }\n",
              "\n",
              "    .dataframe tbody tr th {\n",
              "        vertical-align: top;\n",
              "    }\n",
              "\n",
              "    .dataframe thead th {\n",
              "        text-align: right;\n",
              "    }\n",
              "</style>\n",
              "<table border=\"1\" class=\"dataframe\">\n",
              "  <thead>\n",
              "    <tr style=\"text-align: right;\">\n",
              "      <th></th>\n",
              "      <th>hikayeler</th>\n",
              "    </tr>\n",
              "  </thead>\n",
              "  <tbody>\n",
              "    <tr>\n",
              "      <th>1</th>\n",
              "      <td>scandal bohemia</td>\n",
              "    </tr>\n",
              "    <tr>\n",
              "      <th>2</th>\n",
              "      <td>redheaded league</td>\n",
              "    </tr>\n",
              "    <tr>\n",
              "      <th>3</th>\n",
              "      <td>case identity</td>\n",
              "    </tr>\n",
              "    <tr>\n",
              "      <th>4</th>\n",
              "      <td>boscombe valley mystery</td>\n",
              "    </tr>\n",
              "    <tr>\n",
              "      <th>5</th>\n",
              "      <td>five orange pips</td>\n",
              "    </tr>\n",
              "  </tbody>\n",
              "</table>\n",
              "</div>"
            ],
            "text/plain": [
              "                 hikayeler\n",
              "1          scandal bohemia\n",
              "2         redheaded league\n",
              "3            case identity\n",
              "4  boscombe valley mystery\n",
              "5         five orange pips"
            ]
          },
          "metadata": {
            "tags": []
          },
          "execution_count": 8
        }
      ]
    },
    {
      "cell_type": "code",
      "metadata": {
        "id": "OMddeTKQ89zM",
        "colab_type": "code",
        "colab": {
          "base_uri": "https://localhost:8080/",
          "height": 34
        },
        "outputId": "d6a5172b-303f-4482-c095-a5cef3584389"
      },
      "source": [
        "TextBlob(mdf[\"hikayeler\"][2]).tags"
      ],
      "execution_count": 9,
      "outputs": [
        {
          "output_type": "execute_result",
          "data": {
            "text/plain": [
              "[('redheaded', 'VBN'), ('league', 'NN')]"
            ]
          },
          "metadata": {
            "tags": []
          },
          "execution_count": 9
        }
      ]
    },
    {
      "cell_type": "code",
      "metadata": {
        "id": "r8f6tgje97wo",
        "colab_type": "code",
        "colab": {
          "base_uri": "https://localhost:8080/",
          "height": 119
        },
        "outputId": "27f705be-6bd5-437f-cdd5-c30ca323747d"
      },
      "source": [
        "pos=mdf[\"hikayeler\"].apply(lambda x: TextBlob(x).tags)  #durumlarına göre tagleme yapılmış oluyor. \n",
        "pos"
      ],
      "execution_count": 10,
      "outputs": [
        {
          "output_type": "execute_result",
          "data": {
            "text/plain": [
              "1                   [(scandal, NN), (bohemia, NN)]\n",
              "2                 [(redheaded, VBN), (league, NN)]\n",
              "3                     [(case, NN), (identity, NN)]\n",
              "4    [(boscombe, NN), (valley, NN), (mystery, NN)]\n",
              "5          [(five, CD), (orange, NN), (pips, NNS)]\n",
              "Name: hikayeler, dtype: object"
            ]
          },
          "metadata": {
            "tags": []
          },
          "execution_count": 10
        }
      ]
    },
    {
      "cell_type": "markdown",
      "metadata": {
        "id": "tnShZHwcA9py",
        "colab_type": "text"
      },
      "source": [
        "**Chunking (Shallow Parsing)**"
      ]
    },
    {
      "cell_type": "code",
      "metadata": {
        "id": "X44a2-50BCq3",
        "colab_type": "code",
        "colab": {}
      },
      "source": [
        "cumle=\"R and Python are useful data science tools for the new or old data scientists who eager to do efficient data science task\""
      ],
      "execution_count": 0,
      "outputs": []
    },
    {
      "cell_type": "code",
      "metadata": {
        "id": "8_IpKBnTBwao",
        "colab_type": "code",
        "colab": {}
      },
      "source": [
        "pos=TextBlob(cumle).tags"
      ],
      "execution_count": 0,
      "outputs": []
    },
    {
      "cell_type": "code",
      "metadata": {
        "id": "GGKeSLAKB1a3",
        "colab_type": "code",
        "colab": {
          "base_uri": "https://localhost:8080/",
          "height": 408
        },
        "outputId": "c95d75fb-9d63-492f-b07d-80f4e152ac6b"
      },
      "source": [
        "pos"
      ],
      "execution_count": 13,
      "outputs": [
        {
          "output_type": "execute_result",
          "data": {
            "text/plain": [
              "[('R', 'NNP'),\n",
              " ('and', 'CC'),\n",
              " ('Python', 'NNP'),\n",
              " ('are', 'VBP'),\n",
              " ('useful', 'JJ'),\n",
              " ('data', 'NNS'),\n",
              " ('science', 'NN'),\n",
              " ('tools', 'NNS'),\n",
              " ('for', 'IN'),\n",
              " ('the', 'DT'),\n",
              " ('new', 'JJ'),\n",
              " ('or', 'CC'),\n",
              " ('old', 'JJ'),\n",
              " ('data', 'NNS'),\n",
              " ('scientists', 'NNS'),\n",
              " ('who', 'WP'),\n",
              " ('eager', 'VBP'),\n",
              " ('to', 'TO'),\n",
              " ('do', 'VB'),\n",
              " ('efficient', 'JJ'),\n",
              " ('data', 'NNS'),\n",
              " ('science', 'NN'),\n",
              " ('task', 'NN')]"
            ]
          },
          "metadata": {
            "tags": []
          },
          "execution_count": 13
        }
      ]
    },
    {
      "cell_type": "code",
      "metadata": {
        "id": "6mnODZxEB_YG",
        "colab_type": "code",
        "colab": {}
      },
      "source": [
        "reg_exp=\"NP: {<DT>?<JJ>*<NN>}\"\n",
        "rp=nltk.RegexpParser(reg_exp)\n"
      ],
      "execution_count": 0,
      "outputs": []
    },
    {
      "cell_type": "code",
      "metadata": {
        "id": "r1__xeeAD7X5",
        "colab_type": "code",
        "colab": {}
      },
      "source": [
        "sonuclar=rp.parse(pos)"
      ],
      "execution_count": 0,
      "outputs": []
    },
    {
      "cell_type": "code",
      "metadata": {
        "id": "bB8HJ5spEAys",
        "colab_type": "code",
        "colab": {}
      },
      "source": [
        "sonuclar"
      ],
      "execution_count": 0,
      "outputs": []
    },
    {
      "cell_type": "code",
      "metadata": {
        "id": "Z1gbkPkuEE2i",
        "colab_type": "code",
        "colab": {
          "base_uri": "https://localhost:8080/",
          "height": 425
        },
        "outputId": "11bfd025-9a37-49c6-a5f7-ac60f6f1376c"
      },
      "source": [
        "print(sonuclar)"
      ],
      "execution_count": 17,
      "outputs": [
        {
          "output_type": "stream",
          "text": [
            "(S\n",
            "  R/NNP\n",
            "  and/CC\n",
            "  Python/NNP\n",
            "  are/VBP\n",
            "  useful/JJ\n",
            "  data/NNS\n",
            "  (NP science/NN)\n",
            "  tools/NNS\n",
            "  for/IN\n",
            "  the/DT\n",
            "  new/JJ\n",
            "  or/CC\n",
            "  old/JJ\n",
            "  data/NNS\n",
            "  scientists/NNS\n",
            "  who/WP\n",
            "  eager/VBP\n",
            "  to/TO\n",
            "  do/VB\n",
            "  efficient/JJ\n",
            "  data/NNS\n",
            "  (NP science/NN)\n",
            "  (NP task/NN))\n"
          ],
          "name": "stdout"
        }
      ]
    },
    {
      "cell_type": "code",
      "metadata": {
        "id": "wPmJ0XihEHOL",
        "colab_type": "code",
        "colab": {}
      },
      "source": [
        "sonuclar.draw()"
      ],
      "execution_count": 0,
      "outputs": []
    },
    {
      "cell_type": "markdown",
      "metadata": {
        "id": "y2zcfRukdFcv",
        "colab_type": "text"
      },
      "source": [
        "**Named Entity Recognition**"
      ]
    },
    {
      "cell_type": "code",
      "metadata": {
        "id": "tDVOYZpodL3J",
        "colab_type": "code",
        "colab": {}
      },
      "source": [
        "#tanımlama işlemlerini gerçekleştirir. Nesnelerin ne olduğu"
      ],
      "execution_count": 0,
      "outputs": []
    },
    {
      "cell_type": "code",
      "metadata": {
        "id": "_WPyf0GIdT6Z",
        "colab_type": "code",
        "colab": {
          "base_uri": "https://localhost:8080/",
          "height": 119
        },
        "outputId": "6e6640ce-d55e-44b1-9e17-8c372ac2765c"
      },
      "source": [
        "from nltk import word_tokenize, pos_tag, ne_chunk\n",
        "nltk.download('maxent_ne_chunker')\n",
        "nltk.download('words')"
      ],
      "execution_count": 19,
      "outputs": [
        {
          "output_type": "stream",
          "text": [
            "[nltk_data] Downloading package maxent_ne_chunker to\n",
            "[nltk_data]     /root/nltk_data...\n",
            "[nltk_data]   Unzipping chunkers/maxent_ne_chunker.zip.\n",
            "[nltk_data] Downloading package words to /root/nltk_data...\n",
            "[nltk_data]   Unzipping corpora/words.zip.\n"
          ],
          "name": "stdout"
        },
        {
          "output_type": "execute_result",
          "data": {
            "text/plain": [
              "True"
            ]
          },
          "metadata": {
            "tags": []
          },
          "execution_count": 19
        }
      ]
    },
    {
      "cell_type": "code",
      "metadata": {
        "id": "gV2hs_jLdk7I",
        "colab_type": "code",
        "colab": {
          "base_uri": "https://localhost:8080/",
          "height": 289
        },
        "outputId": "641dc67b-d485-43c9-e050-78d629c61c48"
      },
      "source": [
        "cumle=\"Handley is creative people who for R Studio AND he attented conference at Newyork last year\"\n",
        "print(ne_chunk(pos_tag(word_tokenize(cumle))))"
      ],
      "execution_count": 20,
      "outputs": [
        {
          "output_type": "stream",
          "text": [
            "(S\n",
            "  (GPE Handley/NNP)\n",
            "  is/VBZ\n",
            "  creative/JJ\n",
            "  people/NNS\n",
            "  who/WP\n",
            "  for/IN\n",
            "  (ORGANIZATION R/NNP Studio/NNP)\n",
            "  AND/CC\n",
            "  he/PRP\n",
            "  attented/VBD\n",
            "  conference/NN\n",
            "  at/IN\n",
            "  (ORGANIZATION Newyork/NNP)\n",
            "  last/JJ\n",
            "  year/NN)\n"
          ],
          "name": "stdout"
        }
      ]
    }
  ]
}