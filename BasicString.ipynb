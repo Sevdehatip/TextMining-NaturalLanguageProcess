{
  "nbformat": 4,
  "nbformat_minor": 0,
  "metadata": {
    "colab": {
      "name": "BasicString.ipynb",
      "provenance": []
    },
    "kernelspec": {
      "name": "python3",
      "display_name": "Python 3"
    }
  },
  "cells": [
    {
      "cell_type": "markdown",
      "metadata": {
        "id": "dqPDGLYu6arX",
        "colab_type": "text"
      },
      "source": [
        "**Oluşturma Biçimlendirme**"
      ]
    },
    {
      "cell_type": "code",
      "metadata": {
        "id": "6w2YIMF0SEu6",
        "colab_type": "code",
        "colab": {}
      },
      "source": [
        "isim=\"asd\""
      ],
      "execution_count": 0,
      "outputs": []
    },
    {
      "cell_type": "code",
      "metadata": {
        "id": "tXRPzJV636Ei",
        "colab_type": "code",
        "colab": {
          "base_uri": "https://localhost:8080/",
          "height": 34
        },
        "outputId": "e037c533-3db1-410e-a80d-b31869536d1b"
      },
      "source": [
        "3*isim"
      ],
      "execution_count": 2,
      "outputs": [
        {
          "output_type": "execute_result",
          "data": {
            "text/plain": [
              "'asdasdasd'"
            ]
          },
          "metadata": {
            "tags": []
          },
          "execution_count": 2
        }
      ]
    },
    {
      "cell_type": "code",
      "metadata": {
        "id": "q92mVMrd3-GR",
        "colab_type": "code",
        "colab": {
          "base_uri": "https://localhost:8080/",
          "height": 34
        },
        "outputId": "e033e7d0-ae30-4160-ae4e-bbc57d3309dd"
      },
      "source": [
        "\"asd\"+\"svd\""
      ],
      "execution_count": 3,
      "outputs": [
        {
          "output_type": "execute_result",
          "data": {
            "text/plain": [
              "'asdsvd'"
            ]
          },
          "metadata": {
            "tags": []
          },
          "execution_count": 3
        }
      ]
    },
    {
      "cell_type": "code",
      "metadata": {
        "id": "AnV23JvT4NKc",
        "colab_type": "code",
        "colab": {
          "base_uri": "https://localhost:8080/",
          "height": 34
        },
        "outputId": "0066de9b-039c-444d-8176-49c39280f6f9"
      },
      "source": [
        "\"M\"+isim[1:]"
      ],
      "execution_count": 4,
      "outputs": [
        {
          "output_type": "execute_result",
          "data": {
            "text/plain": [
              "'Msd'"
            ]
          },
          "metadata": {
            "tags": []
          },
          "execution_count": 4
        }
      ]
    },
    {
      "cell_type": "code",
      "metadata": {
        "id": "Pc7TxFg74Vp9",
        "colab_type": "code",
        "colab": {
          "base_uri": "https://localhost:8080/",
          "height": 68
        },
        "outputId": "96193a13-83ae-4315-c179-8f2061c081e6"
      },
      "source": [
        "isimler=[\"ali\", \"veli\", \"ayse\"]\n",
        "for i in isimler:\n",
        "  print(\"İsim:\",i,sep=\"\")"
      ],
      "execution_count": 6,
      "outputs": [
        {
          "output_type": "stream",
          "text": [
            "İsim:ali\n",
            "İsim:veli\n",
            "İsim:ayse\n"
          ],
          "name": "stdout"
        }
      ]
    },
    {
      "cell_type": "code",
      "metadata": {
        "id": "zUNSzfs34zHY",
        "colab_type": "code",
        "colab": {
          "base_uri": "https://localhost:8080/",
          "height": 68
        },
        "outputId": "9ba2be97-2bde-40c4-d46b-e07817db0a5a"
      },
      "source": [
        "for i in isimler:\n",
        "  print(\"_\",i[0:],sep=\"\")"
      ],
      "execution_count": 8,
      "outputs": [
        {
          "output_type": "stream",
          "text": [
            "_ali\n",
            "_veli\n",
            "_ayse\n"
          ],
          "name": "stdout"
        }
      ]
    },
    {
      "cell_type": "code",
      "metadata": {
        "id": "zR3Ddv-u5ODF",
        "colab_type": "code",
        "colab": {
          "base_uri": "https://localhost:8080/",
          "height": 34
        },
        "outputId": "2e9287a0-37ea-4c71-f2ad-68e4ec48e154"
      },
      "source": [
        "print(*enumerate(isimler)) #liste içerisindeki tüm elemanları numaralandırarak getiriyor"
      ],
      "execution_count": 11,
      "outputs": [
        {
          "output_type": "stream",
          "text": [
            "(0, 'ali') (1, 'veli') (2, 'ayse')\n"
          ],
          "name": "stdout"
        }
      ]
    },
    {
      "cell_type": "code",
      "metadata": {
        "id": "X1or5-3t5gpd",
        "colab_type": "code",
        "colab": {
          "base_uri": "https://localhost:8080/",
          "height": 68
        },
        "outputId": "238f14eb-de3e-48c8-bd1a-d21142721aa5"
      },
      "source": [
        "for i in enumerate(isimler):\n",
        "  print(i)"
      ],
      "execution_count": 12,
      "outputs": [
        {
          "output_type": "stream",
          "text": [
            "(0, 'ali')\n",
            "(1, 'veli')\n",
            "(2, 'ayse')\n"
          ],
          "name": "stdout"
        }
      ]
    },
    {
      "cell_type": "code",
      "metadata": {
        "id": "hPe1nU6m53yk",
        "colab_type": "code",
        "colab": {
          "base_uri": "https://localhost:8080/",
          "height": 136
        },
        "outputId": "f9104624-e66f-4135-8933-5aae7b19512d"
      },
      "source": [
        "for i in enumerate(\"isimler\"):\n",
        "  print(i)"
      ],
      "execution_count": 13,
      "outputs": [
        {
          "output_type": "stream",
          "text": [
            "(0, 'i')\n",
            "(1, 's')\n",
            "(2, 'i')\n",
            "(3, 'm')\n",
            "(4, 'l')\n",
            "(5, 'e')\n",
            "(6, 'r')\n"
          ],
          "name": "stdout"
        }
      ]
    },
    {
      "cell_type": "code",
      "metadata": {
        "id": "TVndZYfk55nm",
        "colab_type": "code",
        "colab": {
          "base_uri": "https://localhost:8080/",
          "height": 68
        },
        "outputId": "01cdc7ab-4833-41a4-86f4-f24bed47aef2"
      },
      "source": [
        "for i in enumerate(isimler,4): #istenilen rakamdan başlatma\n",
        "  print(i)"
      ],
      "execution_count": 14,
      "outputs": [
        {
          "output_type": "stream",
          "text": [
            "(4, 'ali')\n",
            "(5, 'veli')\n",
            "(6, 'ayse')\n"
          ],
          "name": "stdout"
        }
      ]
    },
    {
      "cell_type": "markdown",
      "metadata": {
        "id": "lsMrVgCU6hYQ",
        "colab_type": "text"
      },
      "source": [
        "**Dizi İçi Tip Sorgulamaları**"
      ]
    },
    {
      "cell_type": "code",
      "metadata": {
        "id": "73QIjN-i6mX9",
        "colab_type": "code",
        "colab": {
          "base_uri": "https://localhost:8080/",
          "height": 34
        },
        "outputId": "96fb2c27-7497-4cf0-b3b7-bc48ef1f2919"
      },
      "source": [
        "\"mvk\".isalpha() #alfabetik mi"
      ],
      "execution_count": 15,
      "outputs": [
        {
          "output_type": "execute_result",
          "data": {
            "text/plain": [
              "True"
            ]
          },
          "metadata": {
            "tags": []
          },
          "execution_count": 15
        }
      ]
    },
    {
      "cell_type": "code",
      "metadata": {
        "id": "OPlAZLQB6zk4",
        "colab_type": "code",
        "colab": {
          "base_uri": "https://localhost:8080/",
          "height": 34
        },
        "outputId": "79ea8408-e8af-4195-c4a0-3401b9670dbd"
      },
      "source": [
        "\"mvk30\".isalpha()"
      ],
      "execution_count": 16,
      "outputs": [
        {
          "output_type": "execute_result",
          "data": {
            "text/plain": [
              "False"
            ]
          },
          "metadata": {
            "tags": []
          },
          "execution_count": 16
        }
      ]
    },
    {
      "cell_type": "code",
      "metadata": {
        "id": "Aho_KGWg64Up",
        "colab_type": "code",
        "colab": {
          "base_uri": "https://localhost:8080/",
          "height": 34
        },
        "outputId": "9a44c611-3111-4336-e15f-6222ae0291e3"
      },
      "source": [
        "\"123\".isnumeric()"
      ],
      "execution_count": 17,
      "outputs": [
        {
          "output_type": "execute_result",
          "data": {
            "text/plain": [
              "True"
            ]
          },
          "metadata": {
            "tags": []
          },
          "execution_count": 17
        }
      ]
    },
    {
      "cell_type": "code",
      "metadata": {
        "id": "5qvN6RfF7NYk",
        "colab_type": "code",
        "colab": {
          "base_uri": "https://localhost:8080/",
          "height": 34
        },
        "outputId": "6aa7e314-07af-43ac-ba75-eb13ca8ddd77"
      },
      "source": [
        "\"123\".isdigit()"
      ],
      "execution_count": 18,
      "outputs": [
        {
          "output_type": "execute_result",
          "data": {
            "text/plain": [
              "True"
            ]
          },
          "metadata": {
            "tags": []
          },
          "execution_count": 18
        }
      ]
    },
    {
      "cell_type": "code",
      "metadata": {
        "id": "5bfmDj7j7Rgo",
        "colab_type": "code",
        "colab": {
          "base_uri": "https://localhost:8080/",
          "height": 34
        },
        "outputId": "181ed0bd-0870-4473-cf2b-8fd178557484"
      },
      "source": [
        "\"mvk123\".isalnum() #alfb ve numeric varsa yakalıyor"
      ],
      "execution_count": 19,
      "outputs": [
        {
          "output_type": "execute_result",
          "data": {
            "text/plain": [
              "True"
            ]
          },
          "metadata": {
            "tags": []
          },
          "execution_count": 19
        }
      ]
    },
    {
      "cell_type": "markdown",
      "metadata": {
        "id": "wcQ14Q9W7bYx",
        "colab_type": "text"
      },
      "source": [
        "**Elemanlarına ve Eleman İndekslerine Erişmek**"
      ]
    },
    {
      "cell_type": "code",
      "metadata": {
        "id": "cq9-8Iz47f-y",
        "colab_type": "code",
        "colab": {}
      },
      "source": [
        "isim=\"asdasaa\""
      ],
      "execution_count": 0,
      "outputs": []
    },
    {
      "cell_type": "code",
      "metadata": {
        "id": "L6650EMf7nl9",
        "colab_type": "code",
        "colab": {
          "base_uri": "https://localhost:8080/",
          "height": 34
        },
        "outputId": "3f7a8e81-b8c7-4fc6-d721-af188bc5605a"
      },
      "source": [
        "isim[0:2]"
      ],
      "execution_count": 21,
      "outputs": [
        {
          "output_type": "execute_result",
          "data": {
            "text/plain": [
              "'as'"
            ]
          },
          "metadata": {
            "tags": []
          },
          "execution_count": 21
        }
      ]
    },
    {
      "cell_type": "code",
      "metadata": {
        "id": "QpL56CgC7qdz",
        "colab_type": "code",
        "colab": {
          "base_uri": "https://localhost:8080/",
          "height": 34
        },
        "outputId": "c286e26d-ca93-4445-db1a-f2ccaeb77f7d"
      },
      "source": [
        "isim.index(\"d\") "
      ],
      "execution_count": 23,
      "outputs": [
        {
          "output_type": "execute_result",
          "data": {
            "text/plain": [
              "2"
            ]
          },
          "metadata": {
            "tags": []
          },
          "execution_count": 23
        }
      ]
    },
    {
      "cell_type": "code",
      "metadata": {
        "id": "NTRHl_lQ70yX",
        "colab_type": "code",
        "colab": {
          "base_uri": "https://localhost:8080/",
          "height": 34
        },
        "outputId": "af8fb5eb-31b0-45c3-aae2-81b5f0f8d3fb"
      },
      "source": [
        "isim.index(\"a\",1)"
      ],
      "execution_count": 25,
      "outputs": [
        {
          "output_type": "execute_result",
          "data": {
            "text/plain": [
              "3"
            ]
          },
          "metadata": {
            "tags": []
          },
          "execution_count": 25
        }
      ]
    },
    {
      "cell_type": "markdown",
      "metadata": {
        "id": "dY-ouLTd8Hyf",
        "colab_type": "text"
      },
      "source": [
        "**Başlangıç ve Bitiş Karakterlerini Sorgulamak: startswith()&endswith**"
      ]
    },
    {
      "cell_type": "code",
      "metadata": {
        "id": "E7hyFWJq8RPI",
        "colab_type": "code",
        "colab": {
          "base_uri": "https://localhost:8080/",
          "height": 34
        },
        "outputId": "87b383d0-462f-494e-f0cc-8b8ff7f14670"
      },
      "source": [
        "isim.startswith(\"a\")"
      ],
      "execution_count": 26,
      "outputs": [
        {
          "output_type": "execute_result",
          "data": {
            "text/plain": [
              "True"
            ]
          },
          "metadata": {
            "tags": []
          },
          "execution_count": 26
        }
      ]
    },
    {
      "cell_type": "code",
      "metadata": {
        "id": "k51iocmL8kjc",
        "colab_type": "code",
        "colab": {
          "base_uri": "https://localhost:8080/",
          "height": 34
        },
        "outputId": "f7281b33-b992-40d9-d867-f063fed78db0"
      },
      "source": [
        "isim.startswith(\"A\") #küçük büyük harf duyarlılığı var"
      ],
      "execution_count": 29,
      "outputs": [
        {
          "output_type": "execute_result",
          "data": {
            "text/plain": [
              "False"
            ]
          },
          "metadata": {
            "tags": []
          },
          "execution_count": 29
        }
      ]
    },
    {
      "cell_type": "code",
      "metadata": {
        "id": "mGPQwjz98dkx",
        "colab_type": "code",
        "colab": {
          "base_uri": "https://localhost:8080/",
          "height": 34
        },
        "outputId": "b9df6b6f-1edd-4189-98ef-70953e2aaee6"
      },
      "source": [
        "isim.endswith(\"d\")"
      ],
      "execution_count": 28,
      "outputs": [
        {
          "output_type": "execute_result",
          "data": {
            "text/plain": [
              "False"
            ]
          },
          "metadata": {
            "tags": []
          },
          "execution_count": 28
        }
      ]
    },
    {
      "cell_type": "code",
      "metadata": {
        "id": "2exYys5G8-W1",
        "colab_type": "code",
        "colab": {
          "base_uri": "https://localhost:8080/",
          "height": 34
        },
        "outputId": "e1eb1037-0a88-4248-aeb4-59dc0a6534d0"
      },
      "source": [
        "#count\n",
        "isim.count(\"a\")"
      ],
      "execution_count": 30,
      "outputs": [
        {
          "output_type": "execute_result",
          "data": {
            "text/plain": [
              "4"
            ]
          },
          "metadata": {
            "tags": []
          },
          "execution_count": 30
        }
      ]
    },
    {
      "cell_type": "code",
      "metadata": {
        "id": "reinmOl09EFY",
        "colab_type": "code",
        "colab": {
          "base_uri": "https://localhost:8080/",
          "height": 34
        },
        "outputId": "3a76c744-d0b3-408d-99f2-dcd1d5d230c0"
      },
      "source": [
        "#sorted #alfabetik sıralama\n",
        "sorted(\"defter\")"
      ],
      "execution_count": 31,
      "outputs": [
        {
          "output_type": "execute_result",
          "data": {
            "text/plain": [
              "['d', 'e', 'e', 'f', 'r', 't']"
            ]
          },
          "metadata": {
            "tags": []
          },
          "execution_count": 31
        }
      ]
    },
    {
      "cell_type": "code",
      "metadata": {
        "id": "fw5bLOW89Rk7",
        "colab_type": "code",
        "colab": {
          "base_uri": "https://localhost:8080/",
          "height": 34
        },
        "outputId": "de25ed82-8253-412e-80ee-ecdb66764412"
      },
      "source": [
        "print(*sorted(\"defter\"), sep=\"\")"
      ],
      "execution_count": 33,
      "outputs": [
        {
          "output_type": "stream",
          "text": [
            "deefrt\n"
          ],
          "name": "stdout"
        }
      ]
    },
    {
      "cell_type": "markdown",
      "metadata": {
        "id": "Q5ZBHrC_9dSj",
        "colab_type": "text"
      },
      "source": [
        "**Karakterleri Bölmek**"
      ]
    },
    {
      "cell_type": "code",
      "metadata": {
        "id": "s_i9kkFd9gPU",
        "colab_type": "code",
        "colab": {}
      },
      "source": [
        "isim=\"Zeh Sev Hat\""
      ],
      "execution_count": 0,
      "outputs": []
    },
    {
      "cell_type": "code",
      "metadata": {
        "id": "3NhKQ5EG9kwp",
        "colab_type": "code",
        "colab": {
          "base_uri": "https://localhost:8080/",
          "height": 34
        },
        "outputId": "10082465-7dc4-4904-958f-cca5968aebff"
      },
      "source": [
        "isim.split()"
      ],
      "execution_count": 35,
      "outputs": [
        {
          "output_type": "execute_result",
          "data": {
            "text/plain": [
              "['Zeh', 'Sev', 'Hat']"
            ]
          },
          "metadata": {
            "tags": []
          },
          "execution_count": 35
        }
      ]
    },
    {
      "cell_type": "code",
      "metadata": {
        "id": "ICQFnTXe9pEQ",
        "colab_type": "code",
        "colab": {
          "base_uri": "https://localhost:8080/",
          "height": 34
        },
        "outputId": "b390791b-14cb-4ced-8138-314c239712a9"
      },
      "source": [
        "isim.split(\"e\")"
      ],
      "execution_count": 36,
      "outputs": [
        {
          "output_type": "execute_result",
          "data": {
            "text/plain": [
              "['Z', 'h S', 'v Hat']"
            ]
          },
          "metadata": {
            "tags": []
          },
          "execution_count": 36
        }
      ]
    },
    {
      "cell_type": "markdown",
      "metadata": {
        "id": "1RHVgYg69z7T",
        "colab_type": "text"
      },
      "source": [
        "**Büyük Küçük Harf İşlemleri**"
      ]
    },
    {
      "cell_type": "code",
      "metadata": {
        "id": "3ycfS-vM94g6",
        "colab_type": "code",
        "colab": {
          "base_uri": "https://localhost:8080/",
          "height": 34
        },
        "outputId": "1fa3f547-0864-49e9-a730-272fa1ff3449"
      },
      "source": [
        "isim.upper()"
      ],
      "execution_count": 37,
      "outputs": [
        {
          "output_type": "execute_result",
          "data": {
            "text/plain": [
              "'ZEH SEV HAT'"
            ]
          },
          "metadata": {
            "tags": []
          },
          "execution_count": 37
        }
      ]
    },
    {
      "cell_type": "code",
      "metadata": {
        "id": "xyxtJy_199YC",
        "colab_type": "code",
        "colab": {
          "base_uri": "https://localhost:8080/",
          "height": 34
        },
        "outputId": "f2da8f88-e3de-4b47-8c42-a337d1e149b7"
      },
      "source": [
        "isim.lower()"
      ],
      "execution_count": 38,
      "outputs": [
        {
          "output_type": "execute_result",
          "data": {
            "text/plain": [
              "'zeh sev hat'"
            ]
          },
          "metadata": {
            "tags": []
          },
          "execution_count": 38
        }
      ]
    },
    {
      "cell_type": "code",
      "metadata": {
        "id": "Zgh2DwV--AwA",
        "colab_type": "code",
        "colab": {
          "base_uri": "https://localhost:8080/",
          "height": 34
        },
        "outputId": "78cd96f6-ee68-4f6a-84ad-070ea782f5df"
      },
      "source": [
        "isim.upper().lower()"
      ],
      "execution_count": 39,
      "outputs": [
        {
          "output_type": "execute_result",
          "data": {
            "text/plain": [
              "'zeh sev hat'"
            ]
          },
          "metadata": {
            "tags": []
          },
          "execution_count": 39
        }
      ]
    },
    {
      "cell_type": "markdown",
      "metadata": {
        "id": "ddbduQpsHBHn",
        "colab_type": "text"
      },
      "source": [
        "**capitalize()**"
      ]
    },
    {
      "cell_type": "code",
      "metadata": {
        "id": "hQDggmiMHEBQ",
        "colab_type": "code",
        "colab": {}
      },
      "source": [
        "isim=\"zeh sev hat\""
      ],
      "execution_count": 0,
      "outputs": []
    },
    {
      "cell_type": "code",
      "metadata": {
        "id": "G6T8wVbgHMXJ",
        "colab_type": "code",
        "colab": {
          "base_uri": "https://localhost:8080/",
          "height": 34
        },
        "outputId": "2a4a0a92-354c-4dbd-8c94-8c35c29a377c"
      },
      "source": [
        "isim.capitalize()"
      ],
      "execution_count": 40,
      "outputs": [
        {
          "output_type": "execute_result",
          "data": {
            "text/plain": [
              "'Zeh sev hat'"
            ]
          },
          "metadata": {
            "tags": []
          },
          "execution_count": 40
        }
      ]
    },
    {
      "cell_type": "code",
      "metadata": {
        "id": "_vQ6pyAgHR3Z",
        "colab_type": "code",
        "colab": {
          "base_uri": "https://localhost:8080/",
          "height": 34
        },
        "outputId": "d8d7c3e4-a4d4-4fe6-a38a-5a1292b47542"
      },
      "source": [
        "isim.title()"
      ],
      "execution_count": 41,
      "outputs": [
        {
          "output_type": "execute_result",
          "data": {
            "text/plain": [
              "'Zeh Sev Hat'"
            ]
          },
          "metadata": {
            "tags": []
          },
          "execution_count": 41
        }
      ]
    },
    {
      "cell_type": "code",
      "metadata": {
        "id": "5W5xM7VB6QuN",
        "colab_type": "code",
        "colab": {
          "base_uri": "https://localhost:8080/",
          "height": 34
        },
        "outputId": "2bfcf0b1-d74b-4a64-aab2-f7d202f7f638"
      },
      "source": [
        "isim.swapcase() #tek bir harf olarak değil kellime olarak çalışır küçükleri büyük büyükleri küçük yapar"
      ],
      "execution_count": 3,
      "outputs": [
        {
          "output_type": "execute_result",
          "data": {
            "text/plain": [
              "'ZEH SEV HAT'"
            ]
          },
          "metadata": {
            "tags": []
          },
          "execution_count": 3
        }
      ]
    },
    {
      "cell_type": "markdown",
      "metadata": {
        "id": "v7Y9h4XU66yd",
        "colab_type": "text"
      },
      "source": [
        "**İstenmeyen Karakterleri Kırpmak**"
      ]
    },
    {
      "cell_type": "code",
      "metadata": {
        "id": "A7srRUDX6-BA",
        "colab_type": "code",
        "colab": {}
      },
      "source": [
        "isim=\"*hello*\""
      ],
      "execution_count": 0,
      "outputs": []
    },
    {
      "cell_type": "code",
      "metadata": {
        "id": "GVvohhNW7LLh",
        "colab_type": "code",
        "colab": {
          "base_uri": "https://localhost:8080/",
          "height": 34
        },
        "outputId": "23cefc31-215d-4770-b4e9-6029ec9aeb6b"
      },
      "source": [
        "isim.strip(\"*\")"
      ],
      "execution_count": 9,
      "outputs": [
        {
          "output_type": "execute_result",
          "data": {
            "text/plain": [
              "'hello'"
            ]
          },
          "metadata": {
            "tags": []
          },
          "execution_count": 9
        }
      ]
    },
    {
      "cell_type": "code",
      "metadata": {
        "id": "hdAlu1Il7QMy",
        "colab_type": "code",
        "colab": {
          "base_uri": "https://localhost:8080/",
          "height": 34
        },
        "outputId": "042aa40d-1231-4a70-d1d9-7616755ad410"
      },
      "source": [
        "isim.lstrip(\"*\")"
      ],
      "execution_count": 10,
      "outputs": [
        {
          "output_type": "execute_result",
          "data": {
            "text/plain": [
              "'hello*'"
            ]
          },
          "metadata": {
            "tags": []
          },
          "execution_count": 10
        }
      ]
    },
    {
      "cell_type": "code",
      "metadata": {
        "id": "LlUDZ7hw7i7V",
        "colab_type": "code",
        "colab": {
          "base_uri": "https://localhost:8080/",
          "height": 34
        },
        "outputId": "78eaa70a-d7ed-4c3e-ce7c-dbc7df55535e"
      },
      "source": [
        "isim.rstrip(\"*\")"
      ],
      "execution_count": 11,
      "outputs": [
        {
          "output_type": "execute_result",
          "data": {
            "text/plain": [
              "'*hello'"
            ]
          },
          "metadata": {
            "tags": []
          },
          "execution_count": 11
        }
      ]
    },
    {
      "cell_type": "markdown",
      "metadata": {
        "id": "N8LqUw2Z9A82",
        "colab_type": "text"
      },
      "source": [
        "**Join: Bölünmüş ya da zaten bölük olan ifadelerin birlerştirilmesi**"
      ]
    },
    {
      "cell_type": "code",
      "metadata": {
        "id": "Mm6IpSCz9Ik8",
        "colab_type": "code",
        "colab": {}
      },
      "source": [
        "isim=\"Zeh Sev Hat\""
      ],
      "execution_count": 0,
      "outputs": []
    },
    {
      "cell_type": "code",
      "metadata": {
        "id": "GLENjNNV9SrK",
        "colab_type": "code",
        "colab": {}
      },
      "source": [
        "ayrik=isim.split()"
      ],
      "execution_count": 0,
      "outputs": []
    },
    {
      "cell_type": "code",
      "metadata": {
        "id": "Kbs7JF5F9WJv",
        "colab_type": "code",
        "colab": {
          "base_uri": "https://localhost:8080/",
          "height": 34
        },
        "outputId": "a6aac9f2-c2c4-4637-cb91-927731ef67f9"
      },
      "source": [
        "ayrik"
      ],
      "execution_count": 14,
      "outputs": [
        {
          "output_type": "execute_result",
          "data": {
            "text/plain": [
              "['Zeh', 'Sev', 'Hat']"
            ]
          },
          "metadata": {
            "tags": []
          },
          "execution_count": 14
        }
      ]
    },
    {
      "cell_type": "code",
      "metadata": {
        "id": "OhRMEija9XhM",
        "colab_type": "code",
        "colab": {}
      },
      "source": [
        "joiner=\" \""
      ],
      "execution_count": 0,
      "outputs": []
    },
    {
      "cell_type": "code",
      "metadata": {
        "id": "YBTu39KU9aco",
        "colab_type": "code",
        "colab": {
          "base_uri": "https://localhost:8080/",
          "height": 34
        },
        "outputId": "ac1363ee-2a57-411a-f872-943c3a6c129e"
      },
      "source": [
        "joiner.join(ayrik)"
      ],
      "execution_count": 16,
      "outputs": [
        {
          "output_type": "execute_result",
          "data": {
            "text/plain": [
              "'Zeh Sev Hat'"
            ]
          },
          "metadata": {
            "tags": []
          },
          "execution_count": 16
        }
      ]
    },
    {
      "cell_type": "code",
      "metadata": {
        "id": "F62znwQW-8X0",
        "colab_type": "code",
        "colab": {}
      },
      "source": [
        "joiner=\"******\""
      ],
      "execution_count": 0,
      "outputs": []
    },
    {
      "cell_type": "code",
      "metadata": {
        "id": "jPv-QY_a_BzT",
        "colab_type": "code",
        "colab": {
          "base_uri": "https://localhost:8080/",
          "height": 34
        },
        "outputId": "49c5ef9c-d3f6-4dab-b20f-139bd0ca5b7d"
      },
      "source": [
        "joiner.join(ayrik)"
      ],
      "execution_count": 18,
      "outputs": [
        {
          "output_type": "execute_result",
          "data": {
            "text/plain": [
              "'Zeh******Sev******Hat'"
            ]
          },
          "metadata": {
            "tags": []
          },
          "execution_count": 18
        }
      ]
    },
    {
      "cell_type": "markdown",
      "metadata": {
        "id": "7tK3oMHj_VGM",
        "colab_type": "text"
      },
      "source": [
        "**Eleman Değiştirme**"
      ]
    },
    {
      "cell_type": "code",
      "metadata": {
        "id": "SwGOHJxo_Zx5",
        "colab_type": "code",
        "colab": {
          "base_uri": "https://localhost:8080/",
          "height": 34
        },
        "outputId": "a503a92a-8e6c-4437-ce84-b6f923cf332e"
      },
      "source": [
        "isim.replace(\"e\", \"a\")"
      ],
      "execution_count": 19,
      "outputs": [
        {
          "output_type": "execute_result",
          "data": {
            "text/plain": [
              "'Zah Sav Hat'"
            ]
          },
          "metadata": {
            "tags": []
          },
          "execution_count": 19
        }
      ]
    },
    {
      "cell_type": "code",
      "metadata": {
        "id": "xap0x4ij_vO8",
        "colab_type": "code",
        "colab": {}
      },
      "source": [
        "ifade=\"Bu ifade İçerisinde bağzı TÜrkçe karakterler vardır\""
      ],
      "execution_count": 0,
      "outputs": []
    },
    {
      "cell_type": "code",
      "metadata": {
        "id": "dMir1iMXAwHi",
        "colab_type": "code",
        "colab": {}
      },
      "source": [
        "duzeltilecek_harfler=\"çÇğĞıİöÖşŞüÜ\"\n",
        "duzeltilmis_harfler=\"cCgGiIoOsSuU\""
      ],
      "execution_count": 0,
      "outputs": []
    },
    {
      "cell_type": "code",
      "metadata": {
        "id": "oZhARhGnBAwh",
        "colab_type": "code",
        "colab": {}
      },
      "source": [
        "alfabe_duzeltme= str.maketrans(duzeltilecek_harfler, duzeltilmis_harfler)"
      ],
      "execution_count": 0,
      "outputs": []
    },
    {
      "cell_type": "code",
      "metadata": {
        "id": "rI1Qr307BKEl",
        "colab_type": "code",
        "colab": {
          "base_uri": "https://localhost:8080/",
          "height": 34
        },
        "outputId": "426a5c6a-0ec5-4900-a38a-7b3281c2d2c5"
      },
      "source": [
        "ifade.translate(alfabe_duzeltme)"
      ],
      "execution_count": 23,
      "outputs": [
        {
          "output_type": "execute_result",
          "data": {
            "text/plain": [
              "'Bu ifade Icerisinde bagzi TUrkce karakterler vardir'"
            ]
          },
          "metadata": {
            "tags": []
          },
          "execution_count": 23
        }
      ]
    },
    {
      "cell_type": "markdown",
      "metadata": {
        "id": "os6wlSYKBSMt",
        "colab_type": "text"
      },
      "source": [
        "**Contains**"
      ]
    },
    {
      "cell_type": "code",
      "metadata": {
        "id": "GJGltgWWBT9x",
        "colab_type": "code",
        "colab": {}
      },
      "source": [
        "import pandas as pd\n",
        "isimler=[\"ayse\",\"Ayşe\",\"ali\",\"aali\",\"Ali\",\"veli\",\"mehmet\",\"berkcan\"]\n",
        "v=pd.Series(isimler)"
      ],
      "execution_count": 0,
      "outputs": []
    },
    {
      "cell_type": "code",
      "metadata": {
        "id": "TXBhK3N7BrEQ",
        "colab_type": "code",
        "colab": {
          "base_uri": "https://localhost:8080/",
          "height": 170
        },
        "outputId": "f737b602-e8f5-497d-e6e1-bccd5a1dce93"
      },
      "source": [
        "v"
      ],
      "execution_count": 26,
      "outputs": [
        {
          "output_type": "execute_result",
          "data": {
            "text/plain": [
              "0       ayse\n",
              "1       Ayşe\n",
              "2        ali\n",
              "3       aali\n",
              "4        Ali\n",
              "5       veli\n",
              "6     mehmet\n",
              "7    berkcan\n",
              "dtype: object"
            ]
          },
          "metadata": {
            "tags": []
          },
          "execution_count": 26
        }
      ]
    },
    {
      "cell_type": "code",
      "metadata": {
        "id": "lQb8snPVEIFM",
        "colab_type": "code",
        "colab": {
          "base_uri": "https://localhost:8080/",
          "height": 170
        },
        "outputId": "01f8f5ca-59ce-4832-ba4b-c872fc171954"
      },
      "source": [
        "v.str.contains(\"al\")"
      ],
      "execution_count": 27,
      "outputs": [
        {
          "output_type": "execute_result",
          "data": {
            "text/plain": [
              "0    False\n",
              "1    False\n",
              "2     True\n",
              "3     True\n",
              "4    False\n",
              "5    False\n",
              "6    False\n",
              "7    False\n",
              "dtype: bool"
            ]
          },
          "metadata": {
            "tags": []
          },
          "execution_count": 27
        }
      ]
    },
    {
      "cell_type": "code",
      "metadata": {
        "id": "ChDz7QsPEVx0",
        "colab_type": "code",
        "colab": {
          "base_uri": "https://localhost:8080/",
          "height": 68
        },
        "outputId": "b559840f-7ca2-4df8-d2ae-68b18cf2c8a8"
      },
      "source": [
        "v[v.str.contains(\"al\")]"
      ],
      "execution_count": 28,
      "outputs": [
        {
          "output_type": "execute_result",
          "data": {
            "text/plain": [
              "2     ali\n",
              "3    aali\n",
              "dtype: object"
            ]
          },
          "metadata": {
            "tags": []
          },
          "execution_count": 28
        }
      ]
    },
    {
      "cell_type": "code",
      "metadata": {
        "id": "jfm_5wGaEdcV",
        "colab_type": "code",
        "colab": {
          "base_uri": "https://localhost:8080/",
          "height": 34
        },
        "outputId": "e4e9ae2c-67cf-44fb-e072-3b90586c291d"
      },
      "source": [
        "v.str.contains(\"al\").sum()"
      ],
      "execution_count": 29,
      "outputs": [
        {
          "output_type": "execute_result",
          "data": {
            "text/plain": [
              "2"
            ]
          },
          "metadata": {
            "tags": []
          },
          "execution_count": 29
        }
      ]
    },
    {
      "cell_type": "code",
      "metadata": {
        "id": "wQK5UXIgEqZi",
        "colab_type": "code",
        "colab": {
          "base_uri": "https://localhost:8080/",
          "height": 34
        },
        "outputId": "5bf49d1b-4556-4614-e547-cb16e05dfc80"
      },
      "source": [
        "v.str.contains(\"[aA]li\").sum()  #önemli!!!!"
      ],
      "execution_count": 30,
      "outputs": [
        {
          "output_type": "execute_result",
          "data": {
            "text/plain": [
              "3"
            ]
          },
          "metadata": {
            "tags": []
          },
          "execution_count": 30
        }
      ]
    }
  ]
}