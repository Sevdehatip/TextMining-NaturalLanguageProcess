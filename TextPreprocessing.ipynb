{
  "nbformat": 4,
  "nbformat_minor": 0,
  "metadata": {
    "colab": {
      "name": "TextPreprocessing.ipynb",
      "provenance": []
    },
    "kernelspec": {
      "name": "python3",
      "display_name": "Python 3"
    }
  },
  "cells": [
    {
      "cell_type": "markdown",
      "metadata": {
        "id": "v7YGIL6j9vLP",
        "colab_type": "text"
      },
      "source": [
        "**Metin Ön İşleme**"
      ]
    },
    {
      "cell_type": "code",
      "metadata": {
        "id": "jU5PZfaY9s6r",
        "colab_type": "code",
        "outputId": "cad74eeb-fcdb-4ff1-cf86-c24aef341d9b",
        "colab": {
          "base_uri": "https://localhost:8080/",
          "height": 54
        }
      },
      "source": [
        "metin=\"\"\"\n",
        "A Scandal in Bohemia! 01\n",
        "The Red-headed League,2\n",
        "A Case, of Identity33\n",
        "The Boscombe Valley Mystery4\n",
        "The Five Orange Pips1\n",
        "The Man with? the Twisted Lip\n",
        "The Adventure of the Blue Carbuncle\n",
        "The Adventure of the Speckled Band\n",
        "The Adventure of the Engineer’s Thumb\n",
        "The Adventure of the Noble Bachelor\n",
        "The Adventure of the Beryl Coronet\n",
        "The Adventure of the Copper Beeches\"\"\"\n",
        "#noisy text\n",
        "metin"
      ],
      "execution_count": 1,
      "outputs": [
        {
          "output_type": "execute_result",
          "data": {
            "text/plain": [
              "'\\nA Scandal in Bohemia! 01\\nThe Red-headed League,2\\nA Case, of Identity33\\nThe Boscombe Valley Mystery4\\nThe Five Orange Pips1\\nThe Man with? the Twisted Lip\\nThe Adventure of the Blue Carbuncle\\nThe Adventure of the Speckled Band\\nThe Adventure of the Engineer’s Thumb\\nThe Adventure of the Noble Bachelor\\nThe Adventure of the Beryl Coronet\\nThe Adventure of the Copper Beeches'"
            ]
          },
          "metadata": {
            "tags": []
          },
          "execution_count": 1
        }
      ]
    },
    {
      "cell_type": "markdown",
      "metadata": {
        "id": "dBodcFYW_uBO",
        "colab_type": "text"
      },
      "source": [
        "**Stringi df/array/seriye çevirme**"
      ]
    },
    {
      "cell_type": "code",
      "metadata": {
        "id": "Dqg--iuB-ohM",
        "colab_type": "code",
        "outputId": "def47377-fb10-4e9e-fbb0-bb560734659d",
        "colab": {
          "base_uri": "https://localhost:8080/",
          "height": 1000
        }
      },
      "source": [
        "metin.split()"
      ],
      "execution_count": 2,
      "outputs": [
        {
          "output_type": "execute_result",
          "data": {
            "text/plain": [
              "['A',\n",
              " 'Scandal',\n",
              " 'in',\n",
              " 'Bohemia!',\n",
              " '01',\n",
              " 'The',\n",
              " 'Red-headed',\n",
              " 'League,2',\n",
              " 'A',\n",
              " 'Case,',\n",
              " 'of',\n",
              " 'Identity33',\n",
              " 'The',\n",
              " 'Boscombe',\n",
              " 'Valley',\n",
              " 'Mystery4',\n",
              " 'The',\n",
              " 'Five',\n",
              " 'Orange',\n",
              " 'Pips1',\n",
              " 'The',\n",
              " 'Man',\n",
              " 'with?',\n",
              " 'the',\n",
              " 'Twisted',\n",
              " 'Lip',\n",
              " 'The',\n",
              " 'Adventure',\n",
              " 'of',\n",
              " 'the',\n",
              " 'Blue',\n",
              " 'Carbuncle',\n",
              " 'The',\n",
              " 'Adventure',\n",
              " 'of',\n",
              " 'the',\n",
              " 'Speckled',\n",
              " 'Band',\n",
              " 'The',\n",
              " 'Adventure',\n",
              " 'of',\n",
              " 'the',\n",
              " 'Engineer’s',\n",
              " 'Thumb',\n",
              " 'The',\n",
              " 'Adventure',\n",
              " 'of',\n",
              " 'the',\n",
              " 'Noble',\n",
              " 'Bachelor',\n",
              " 'The',\n",
              " 'Adventure',\n",
              " 'of',\n",
              " 'the',\n",
              " 'Beryl',\n",
              " 'Coronet',\n",
              " 'The',\n",
              " 'Adventure',\n",
              " 'of',\n",
              " 'the',\n",
              " 'Copper',\n",
              " 'Beeches']"
            ]
          },
          "metadata": {
            "tags": []
          },
          "execution_count": 2
        }
      ]
    },
    {
      "cell_type": "code",
      "metadata": {
        "id": "PWasP8U9-wav",
        "colab_type": "code",
        "outputId": "4ed2199a-a010-4792-83af-a27ea0628b87",
        "colab": {
          "base_uri": "https://localhost:8080/",
          "height": 238
        }
      },
      "source": [
        "metin.split(\"\\n\")"
      ],
      "execution_count": 5,
      "outputs": [
        {
          "output_type": "execute_result",
          "data": {
            "text/plain": [
              "['',\n",
              " 'A Scandal in Bohemia! 01',\n",
              " 'The Red-headed League,2',\n",
              " 'A Case, of Identity33',\n",
              " 'The Boscombe Valley Mystery4',\n",
              " 'The Five Orange Pips1',\n",
              " 'The Man with? the Twisted Lip',\n",
              " 'The Adventure of the Blue Carbuncle',\n",
              " 'The Adventure of the Speckled Band',\n",
              " 'The Adventure of the Engineer’s Thumb',\n",
              " 'The Adventure of the Noble Bachelor',\n",
              " 'The Adventure of the Beryl Coronet',\n",
              " 'The Adventure of the Copper Beeches']"
            ]
          },
          "metadata": {
            "tags": []
          },
          "execution_count": 5
        }
      ]
    },
    {
      "cell_type": "code",
      "metadata": {
        "id": "wg0q5Drt-3YH",
        "colab_type": "code",
        "colab": {}
      },
      "source": [
        "v_metin=metin.split(\"\\n\")"
      ],
      "execution_count": 0,
      "outputs": []
    },
    {
      "cell_type": "code",
      "metadata": {
        "id": "k7HvvEbq-6ke",
        "colab_type": "code",
        "outputId": "68f90c2c-1ba9-45a5-9572-fd5d422bfc88",
        "colab": {
          "base_uri": "https://localhost:8080/",
          "height": 255
        }
      },
      "source": [
        "import pandas as pd\n",
        "v=pd.Series(v_metin)\n",
        "v"
      ],
      "execution_count": 7,
      "outputs": [
        {
          "output_type": "execute_result",
          "data": {
            "text/plain": [
              "0                                          \n",
              "1                  A Scandal in Bohemia! 01\n",
              "2                   The Red-headed League,2\n",
              "3                     A Case, of Identity33\n",
              "4              The Boscombe Valley Mystery4\n",
              "5                     The Five Orange Pips1\n",
              "6             The Man with? the Twisted Lip\n",
              "7       The Adventure of the Blue Carbuncle\n",
              "8        The Adventure of the Speckled Band\n",
              "9     The Adventure of the Engineer’s Thumb\n",
              "10      The Adventure of the Noble Bachelor\n",
              "11       The Adventure of the Beryl Coronet\n",
              "12      The Adventure of the Copper Beeches\n",
              "dtype: object"
            ]
          },
          "metadata": {
            "tags": []
          },
          "execution_count": 7
        }
      ]
    },
    {
      "cell_type": "code",
      "metadata": {
        "id": "taBcgfQc_JzO",
        "colab_type": "code",
        "outputId": "2b691e7e-9162-4119-d2b4-5f3794a2a592",
        "colab": {
          "base_uri": "https://localhost:8080/",
          "height": 238
        }
      },
      "source": [
        "metin_vektörü=v[1:len(v)]\n",
        "metin_vektörü"
      ],
      "execution_count": 8,
      "outputs": [
        {
          "output_type": "execute_result",
          "data": {
            "text/plain": [
              "1                  A Scandal in Bohemia! 01\n",
              "2                   The Red-headed League,2\n",
              "3                     A Case, of Identity33\n",
              "4              The Boscombe Valley Mystery4\n",
              "5                     The Five Orange Pips1\n",
              "6             The Man with? the Twisted Lip\n",
              "7       The Adventure of the Blue Carbuncle\n",
              "8        The Adventure of the Speckled Band\n",
              "9     The Adventure of the Engineer’s Thumb\n",
              "10      The Adventure of the Noble Bachelor\n",
              "11       The Adventure of the Beryl Coronet\n",
              "12      The Adventure of the Copper Beeches\n",
              "dtype: object"
            ]
          },
          "metadata": {
            "tags": []
          },
          "execution_count": 8
        }
      ]
    },
    {
      "cell_type": "code",
      "metadata": {
        "id": "qu5rsfqj_YJb",
        "colab_type": "code",
        "colab": {}
      },
      "source": [
        "mdf=pd.DataFrame(metin_vektörü, columns=[\"hikayeler\"])"
      ],
      "execution_count": 0,
      "outputs": []
    },
    {
      "cell_type": "code",
      "metadata": {
        "id": "fYwLinIp_nqO",
        "colab_type": "code",
        "outputId": "b5bb1307-60c2-494f-83b9-e0f31b2aa65d",
        "colab": {
          "base_uri": "https://localhost:8080/",
          "height": 421
        }
      },
      "source": [
        "mdf"
      ],
      "execution_count": 10,
      "outputs": [
        {
          "output_type": "execute_result",
          "data": {
            "text/html": [
              "<div>\n",
              "<style scoped>\n",
              "    .dataframe tbody tr th:only-of-type {\n",
              "        vertical-align: middle;\n",
              "    }\n",
              "\n",
              "    .dataframe tbody tr th {\n",
              "        vertical-align: top;\n",
              "    }\n",
              "\n",
              "    .dataframe thead th {\n",
              "        text-align: right;\n",
              "    }\n",
              "</style>\n",
              "<table border=\"1\" class=\"dataframe\">\n",
              "  <thead>\n",
              "    <tr style=\"text-align: right;\">\n",
              "      <th></th>\n",
              "      <th>hikayeler</th>\n",
              "    </tr>\n",
              "  </thead>\n",
              "  <tbody>\n",
              "    <tr>\n",
              "      <th>1</th>\n",
              "      <td>A Scandal in Bohemia! 01</td>\n",
              "    </tr>\n",
              "    <tr>\n",
              "      <th>2</th>\n",
              "      <td>The Red-headed League,2</td>\n",
              "    </tr>\n",
              "    <tr>\n",
              "      <th>3</th>\n",
              "      <td>A Case, of Identity33</td>\n",
              "    </tr>\n",
              "    <tr>\n",
              "      <th>4</th>\n",
              "      <td>The Boscombe Valley Mystery4</td>\n",
              "    </tr>\n",
              "    <tr>\n",
              "      <th>5</th>\n",
              "      <td>The Five Orange Pips1</td>\n",
              "    </tr>\n",
              "    <tr>\n",
              "      <th>6</th>\n",
              "      <td>The Man with? the Twisted Lip</td>\n",
              "    </tr>\n",
              "    <tr>\n",
              "      <th>7</th>\n",
              "      <td>The Adventure of the Blue Carbuncle</td>\n",
              "    </tr>\n",
              "    <tr>\n",
              "      <th>8</th>\n",
              "      <td>The Adventure of the Speckled Band</td>\n",
              "    </tr>\n",
              "    <tr>\n",
              "      <th>9</th>\n",
              "      <td>The Adventure of the Engineer’s Thumb</td>\n",
              "    </tr>\n",
              "    <tr>\n",
              "      <th>10</th>\n",
              "      <td>The Adventure of the Noble Bachelor</td>\n",
              "    </tr>\n",
              "    <tr>\n",
              "      <th>11</th>\n",
              "      <td>The Adventure of the Beryl Coronet</td>\n",
              "    </tr>\n",
              "    <tr>\n",
              "      <th>12</th>\n",
              "      <td>The Adventure of the Copper Beeches</td>\n",
              "    </tr>\n",
              "  </tbody>\n",
              "</table>\n",
              "</div>"
            ],
            "text/plain": [
              "                                hikayeler\n",
              "1                A Scandal in Bohemia! 01\n",
              "2                 The Red-headed League,2\n",
              "3                   A Case, of Identity33\n",
              "4            The Boscombe Valley Mystery4\n",
              "5                   The Five Orange Pips1\n",
              "6           The Man with? the Twisted Lip\n",
              "7     The Adventure of the Blue Carbuncle\n",
              "8      The Adventure of the Speckled Band\n",
              "9   The Adventure of the Engineer’s Thumb\n",
              "10    The Adventure of the Noble Bachelor\n",
              "11     The Adventure of the Beryl Coronet\n",
              "12    The Adventure of the Copper Beeches"
            ]
          },
          "metadata": {
            "tags": []
          },
          "execution_count": 10
        }
      ]
    },
    {
      "cell_type": "markdown",
      "metadata": {
        "id": "0EGuujO9_8Q0",
        "colab_type": "text"
      },
      "source": [
        "**Büyük-Küçük Harf**"
      ]
    },
    {
      "cell_type": "code",
      "metadata": {
        "id": "Ozhuc8JPADvL",
        "colab_type": "code",
        "colab": {}
      },
      "source": [
        "d_mdf=mdf.copy()"
      ],
      "execution_count": 0,
      "outputs": []
    },
    {
      "cell_type": "code",
      "metadata": {
        "id": "dDKSWsTCDT9z",
        "colab_type": "code",
        "outputId": "2c33a4f1-6f41-4308-99e6-881cf6706b53",
        "colab": {
          "base_uri": "https://localhost:8080/",
          "height": 421
        }
      },
      "source": [
        "d_mdf"
      ],
      "execution_count": 12,
      "outputs": [
        {
          "output_type": "execute_result",
          "data": {
            "text/html": [
              "<div>\n",
              "<style scoped>\n",
              "    .dataframe tbody tr th:only-of-type {\n",
              "        vertical-align: middle;\n",
              "    }\n",
              "\n",
              "    .dataframe tbody tr th {\n",
              "        vertical-align: top;\n",
              "    }\n",
              "\n",
              "    .dataframe thead th {\n",
              "        text-align: right;\n",
              "    }\n",
              "</style>\n",
              "<table border=\"1\" class=\"dataframe\">\n",
              "  <thead>\n",
              "    <tr style=\"text-align: right;\">\n",
              "      <th></th>\n",
              "      <th>hikayeler</th>\n",
              "    </tr>\n",
              "  </thead>\n",
              "  <tbody>\n",
              "    <tr>\n",
              "      <th>1</th>\n",
              "      <td>A Scandal in Bohemia! 01</td>\n",
              "    </tr>\n",
              "    <tr>\n",
              "      <th>2</th>\n",
              "      <td>The Red-headed League,2</td>\n",
              "    </tr>\n",
              "    <tr>\n",
              "      <th>3</th>\n",
              "      <td>A Case, of Identity33</td>\n",
              "    </tr>\n",
              "    <tr>\n",
              "      <th>4</th>\n",
              "      <td>The Boscombe Valley Mystery4</td>\n",
              "    </tr>\n",
              "    <tr>\n",
              "      <th>5</th>\n",
              "      <td>The Five Orange Pips1</td>\n",
              "    </tr>\n",
              "    <tr>\n",
              "      <th>6</th>\n",
              "      <td>The Man with? the Twisted Lip</td>\n",
              "    </tr>\n",
              "    <tr>\n",
              "      <th>7</th>\n",
              "      <td>The Adventure of the Blue Carbuncle</td>\n",
              "    </tr>\n",
              "    <tr>\n",
              "      <th>8</th>\n",
              "      <td>The Adventure of the Speckled Band</td>\n",
              "    </tr>\n",
              "    <tr>\n",
              "      <th>9</th>\n",
              "      <td>The Adventure of the Engineer’s Thumb</td>\n",
              "    </tr>\n",
              "    <tr>\n",
              "      <th>10</th>\n",
              "      <td>The Adventure of the Noble Bachelor</td>\n",
              "    </tr>\n",
              "    <tr>\n",
              "      <th>11</th>\n",
              "      <td>The Adventure of the Beryl Coronet</td>\n",
              "    </tr>\n",
              "    <tr>\n",
              "      <th>12</th>\n",
              "      <td>The Adventure of the Copper Beeches</td>\n",
              "    </tr>\n",
              "  </tbody>\n",
              "</table>\n",
              "</div>"
            ],
            "text/plain": [
              "                                hikayeler\n",
              "1                A Scandal in Bohemia! 01\n",
              "2                 The Red-headed League,2\n",
              "3                   A Case, of Identity33\n",
              "4            The Boscombe Valley Mystery4\n",
              "5                   The Five Orange Pips1\n",
              "6           The Man with? the Twisted Lip\n",
              "7     The Adventure of the Blue Carbuncle\n",
              "8      The Adventure of the Speckled Band\n",
              "9   The Adventure of the Engineer’s Thumb\n",
              "10    The Adventure of the Noble Bachelor\n",
              "11     The Adventure of the Beryl Coronet\n",
              "12    The Adventure of the Copper Beeches"
            ]
          },
          "metadata": {
            "tags": []
          },
          "execution_count": 12
        }
      ]
    },
    {
      "cell_type": "code",
      "metadata": {
        "id": "E2v9r_knDXau",
        "colab_type": "code",
        "colab": {}
      },
      "source": [
        "list1=[1,2,3]"
      ],
      "execution_count": 0,
      "outputs": []
    },
    {
      "cell_type": "code",
      "metadata": {
        "id": "DNB9VtLRDbQm",
        "colab_type": "code",
        "colab": {}
      },
      "source": [
        "str1=\" \".join(str(i) for i in list1)"
      ],
      "execution_count": 0,
      "outputs": []
    },
    {
      "cell_type": "code",
      "metadata": {
        "id": "l3aprPZRDpb0",
        "colab_type": "code",
        "outputId": "97117464-8b19-4f2b-ca5a-67fc545e3520",
        "colab": {
          "base_uri": "https://localhost:8080/",
          "height": 34
        }
      },
      "source": [
        "str1"
      ],
      "execution_count": 15,
      "outputs": [
        {
          "output_type": "execute_result",
          "data": {
            "text/plain": [
              "'1 2 3'"
            ]
          },
          "metadata": {
            "tags": []
          },
          "execution_count": 15
        }
      ]
    },
    {
      "cell_type": "code",
      "metadata": {
        "id": "PndATzNpD06a",
        "colab_type": "code",
        "colab": {}
      },
      "source": [
        "d_mdf=d_mdf[\"hikayeler\"].apply(lambda x:\" \".join(x.lower() for x in x.split()))"
      ],
      "execution_count": 0,
      "outputs": []
    },
    {
      "cell_type": "code",
      "metadata": {
        "id": "0mtRQUxoFSRy",
        "colab_type": "code",
        "outputId": "10b4bf22-2dc2-471b-e43e-6c32648e7954",
        "colab": {
          "base_uri": "https://localhost:8080/",
          "height": 238
        }
      },
      "source": [
        "d_mdf"
      ],
      "execution_count": 17,
      "outputs": [
        {
          "output_type": "execute_result",
          "data": {
            "text/plain": [
              "1                  a scandal in bohemia! 01\n",
              "2                   the red-headed league,2\n",
              "3                     a case, of identity33\n",
              "4              the boscombe valley mystery4\n",
              "5                     the five orange pips1\n",
              "6             the man with? the twisted lip\n",
              "7       the adventure of the blue carbuncle\n",
              "8        the adventure of the speckled band\n",
              "9     the adventure of the engineer’s thumb\n",
              "10      the adventure of the noble bachelor\n",
              "11       the adventure of the beryl coronet\n",
              "12      the adventure of the copper beeches\n",
              "Name: hikayeler, dtype: object"
            ]
          },
          "metadata": {
            "tags": []
          },
          "execution_count": 17
        }
      ]
    },
    {
      "cell_type": "markdown",
      "metadata": {
        "id": "SujlTZuXFVNr",
        "colab_type": "text"
      },
      "source": [
        "**Noktalama İşaretlerinin Silinmesi**"
      ]
    },
    {
      "cell_type": "code",
      "metadata": {
        "id": "XOKXKYKq8H-r",
        "colab_type": "code",
        "colab": {}
      },
      "source": [
        "d_mdf=pd.DataFrame(d_mdf, columns=[\"hikayeler\"])"
      ],
      "execution_count": 0,
      "outputs": []
    },
    {
      "cell_type": "code",
      "metadata": {
        "id": "qBh3L42jFZrD",
        "colab_type": "code",
        "outputId": "dc5ee557-1b0f-4171-c92d-1cd8becb1228",
        "colab": {
          "base_uri": "https://localhost:8080/",
          "height": 238
        }
      },
      "source": [
        "d_mdf=d_mdf[\"hikayeler\"].str.replace(\"[^\\w\\s]\",\"\")\n",
        "d_mdf"
      ],
      "execution_count": 19,
      "outputs": [
        {
          "output_type": "execute_result",
          "data": {
            "text/plain": [
              "1                  a scandal in bohemia 01\n",
              "2                    the redheaded league2\n",
              "3                     a case of identity33\n",
              "4             the boscombe valley mystery4\n",
              "5                    the five orange pips1\n",
              "6             the man with the twisted lip\n",
              "7      the adventure of the blue carbuncle\n",
              "8       the adventure of the speckled band\n",
              "9     the adventure of the engineers thumb\n",
              "10     the adventure of the noble bachelor\n",
              "11      the adventure of the beryl coronet\n",
              "12     the adventure of the copper beeches\n",
              "Name: hikayeler, dtype: object"
            ]
          },
          "metadata": {
            "tags": []
          },
          "execution_count": 19
        }
      ]
    },
    {
      "cell_type": "markdown",
      "metadata": {
        "id": "LzAGjBuo94uQ",
        "colab_type": "text"
      },
      "source": [
        "**Sayıların Silinmesi**"
      ]
    },
    {
      "cell_type": "code",
      "metadata": {
        "id": "KP29bkj697a5",
        "colab_type": "code",
        "outputId": "db51d721-4407-4bda-dc00-42260ee9c59d",
        "colab": {
          "base_uri": "https://localhost:8080/",
          "height": 238
        }
      },
      "source": [
        "d_mdf=d_mdf.str.replace(\"\\d\",\"\")\n",
        "d_mdf"
      ],
      "execution_count": 20,
      "outputs": [
        {
          "output_type": "execute_result",
          "data": {
            "text/plain": [
              "1                    a scandal in bohemia \n",
              "2                     the redheaded league\n",
              "3                       a case of identity\n",
              "4              the boscombe valley mystery\n",
              "5                     the five orange pips\n",
              "6             the man with the twisted lip\n",
              "7      the adventure of the blue carbuncle\n",
              "8       the adventure of the speckled band\n",
              "9     the adventure of the engineers thumb\n",
              "10     the adventure of the noble bachelor\n",
              "11      the adventure of the beryl coronet\n",
              "12     the adventure of the copper beeches\n",
              "Name: hikayeler, dtype: object"
            ]
          },
          "metadata": {
            "tags": []
          },
          "execution_count": 20
        }
      ]
    },
    {
      "cell_type": "markdown",
      "metadata": {
        "id": "joa7FZIF-5qn",
        "colab_type": "text"
      },
      "source": [
        "**Stopwords** \n",
        "Durma kelimeleri veya sık kullanılan kelimeler "
      ]
    },
    {
      "cell_type": "code",
      "metadata": {
        "id": "ucFyoqmg_Cg9",
        "colab_type": "code",
        "colab": {}
      },
      "source": [
        "d_mdf=pd.DataFrame(d_mdf, columns=[\"hikayeler\"])"
      ],
      "execution_count": 0,
      "outputs": []
    },
    {
      "cell_type": "code",
      "metadata": {
        "id": "iwBNX5li_SV7",
        "colab_type": "code",
        "outputId": "7502f736-be90-45cf-e1c0-8bb05b6edb59",
        "colab": {
          "base_uri": "https://localhost:8080/",
          "height": 51
        }
      },
      "source": [
        "!pip install nltk"
      ],
      "execution_count": 22,
      "outputs": [
        {
          "output_type": "stream",
          "text": [
            "Requirement already satisfied: nltk in /usr/local/lib/python3.6/dist-packages (3.2.5)\n",
            "Requirement already satisfied: six in /usr/local/lib/python3.6/dist-packages (from nltk) (1.12.0)\n"
          ],
          "name": "stdout"
        }
      ]
    },
    {
      "cell_type": "code",
      "metadata": {
        "id": "PCn83MiV_X2R",
        "colab_type": "code",
        "outputId": "a893833f-15a8-498f-8e81-1348e806d9f7",
        "colab": {
          "base_uri": "https://localhost:8080/",
          "height": 68
        }
      },
      "source": [
        "import nltk\n",
        "nltk.download(\"stopwords\")"
      ],
      "execution_count": 23,
      "outputs": [
        {
          "output_type": "stream",
          "text": [
            "[nltk_data] Downloading package stopwords to /root/nltk_data...\n",
            "[nltk_data]   Unzipping corpora/stopwords.zip.\n"
          ],
          "name": "stdout"
        },
        {
          "output_type": "execute_result",
          "data": {
            "text/plain": [
              "True"
            ]
          },
          "metadata": {
            "tags": []
          },
          "execution_count": 23
        }
      ]
    },
    {
      "cell_type": "code",
      "metadata": {
        "id": "aHOiC7dr_g1Z",
        "colab_type": "code",
        "colab": {}
      },
      "source": [
        "from nltk.corpus import stopwords"
      ],
      "execution_count": 0,
      "outputs": []
    },
    {
      "cell_type": "code",
      "metadata": {
        "id": "fgG1zeRI_m1p",
        "colab_type": "code",
        "colab": {}
      },
      "source": [
        "sw=stopwords.words(\"english\")"
      ],
      "execution_count": 0,
      "outputs": []
    },
    {
      "cell_type": "code",
      "metadata": {
        "id": "uw0psraT_zgg",
        "colab_type": "code",
        "outputId": "e7843ea0-fbb4-4dc0-c90f-acfcb9fb7ea6",
        "colab": {
          "base_uri": "https://localhost:8080/",
          "height": 1000
        }
      },
      "source": [
        "sw"
      ],
      "execution_count": 26,
      "outputs": [
        {
          "output_type": "execute_result",
          "data": {
            "text/plain": [
              "['i',\n",
              " 'me',\n",
              " 'my',\n",
              " 'myself',\n",
              " 'we',\n",
              " 'our',\n",
              " 'ours',\n",
              " 'ourselves',\n",
              " 'you',\n",
              " \"you're\",\n",
              " \"you've\",\n",
              " \"you'll\",\n",
              " \"you'd\",\n",
              " 'your',\n",
              " 'yours',\n",
              " 'yourself',\n",
              " 'yourselves',\n",
              " 'he',\n",
              " 'him',\n",
              " 'his',\n",
              " 'himself',\n",
              " 'she',\n",
              " \"she's\",\n",
              " 'her',\n",
              " 'hers',\n",
              " 'herself',\n",
              " 'it',\n",
              " \"it's\",\n",
              " 'its',\n",
              " 'itself',\n",
              " 'they',\n",
              " 'them',\n",
              " 'their',\n",
              " 'theirs',\n",
              " 'themselves',\n",
              " 'what',\n",
              " 'which',\n",
              " 'who',\n",
              " 'whom',\n",
              " 'this',\n",
              " 'that',\n",
              " \"that'll\",\n",
              " 'these',\n",
              " 'those',\n",
              " 'am',\n",
              " 'is',\n",
              " 'are',\n",
              " 'was',\n",
              " 'were',\n",
              " 'be',\n",
              " 'been',\n",
              " 'being',\n",
              " 'have',\n",
              " 'has',\n",
              " 'had',\n",
              " 'having',\n",
              " 'do',\n",
              " 'does',\n",
              " 'did',\n",
              " 'doing',\n",
              " 'a',\n",
              " 'an',\n",
              " 'the',\n",
              " 'and',\n",
              " 'but',\n",
              " 'if',\n",
              " 'or',\n",
              " 'because',\n",
              " 'as',\n",
              " 'until',\n",
              " 'while',\n",
              " 'of',\n",
              " 'at',\n",
              " 'by',\n",
              " 'for',\n",
              " 'with',\n",
              " 'about',\n",
              " 'against',\n",
              " 'between',\n",
              " 'into',\n",
              " 'through',\n",
              " 'during',\n",
              " 'before',\n",
              " 'after',\n",
              " 'above',\n",
              " 'below',\n",
              " 'to',\n",
              " 'from',\n",
              " 'up',\n",
              " 'down',\n",
              " 'in',\n",
              " 'out',\n",
              " 'on',\n",
              " 'off',\n",
              " 'over',\n",
              " 'under',\n",
              " 'again',\n",
              " 'further',\n",
              " 'then',\n",
              " 'once',\n",
              " 'here',\n",
              " 'there',\n",
              " 'when',\n",
              " 'where',\n",
              " 'why',\n",
              " 'how',\n",
              " 'all',\n",
              " 'any',\n",
              " 'both',\n",
              " 'each',\n",
              " 'few',\n",
              " 'more',\n",
              " 'most',\n",
              " 'other',\n",
              " 'some',\n",
              " 'such',\n",
              " 'no',\n",
              " 'nor',\n",
              " 'not',\n",
              " 'only',\n",
              " 'own',\n",
              " 'same',\n",
              " 'so',\n",
              " 'than',\n",
              " 'too',\n",
              " 'very',\n",
              " 's',\n",
              " 't',\n",
              " 'can',\n",
              " 'will',\n",
              " 'just',\n",
              " 'don',\n",
              " \"don't\",\n",
              " 'should',\n",
              " \"should've\",\n",
              " 'now',\n",
              " 'd',\n",
              " 'll',\n",
              " 'm',\n",
              " 'o',\n",
              " 're',\n",
              " 've',\n",
              " 'y',\n",
              " 'ain',\n",
              " 'aren',\n",
              " \"aren't\",\n",
              " 'couldn',\n",
              " \"couldn't\",\n",
              " 'didn',\n",
              " \"didn't\",\n",
              " 'doesn',\n",
              " \"doesn't\",\n",
              " 'hadn',\n",
              " \"hadn't\",\n",
              " 'hasn',\n",
              " \"hasn't\",\n",
              " 'haven',\n",
              " \"haven't\",\n",
              " 'isn',\n",
              " \"isn't\",\n",
              " 'ma',\n",
              " 'mightn',\n",
              " \"mightn't\",\n",
              " 'mustn',\n",
              " \"mustn't\",\n",
              " 'needn',\n",
              " \"needn't\",\n",
              " 'shan',\n",
              " \"shan't\",\n",
              " 'shouldn',\n",
              " \"shouldn't\",\n",
              " 'wasn',\n",
              " \"wasn't\",\n",
              " 'weren',\n",
              " \"weren't\",\n",
              " 'won',\n",
              " \"won't\",\n",
              " 'wouldn',\n",
              " \"wouldn't\"]"
            ]
          },
          "metadata": {
            "tags": []
          },
          "execution_count": 26
        }
      ]
    },
    {
      "cell_type": "code",
      "metadata": {
        "id": "JToV3ar6_6_z",
        "colab_type": "code",
        "outputId": "6b9a7f1f-0365-473f-978f-841122ccac1f",
        "colab": {
          "base_uri": "https://localhost:8080/",
          "height": 238
        }
      },
      "source": [
        "d_mdf[\"hikayeler\"].apply(lambda x: \" \".join(x for x in x.split() if x not in sw))"
      ],
      "execution_count": 65,
      "outputs": [
        {
          "output_type": "execute_result",
          "data": {
            "text/plain": [
              "1               scandal bohemia\n",
              "2              redheaded league\n",
              "3                 case identity\n",
              "4       boscombe valley mystery\n",
              "5              five orange pips\n",
              "6               man twisted lip\n",
              "7      adventure blue carbuncle\n",
              "8       adventure speckled band\n",
              "9     adventure engineers thumb\n",
              "10     adventure noble bachelor\n",
              "11      adventure beryl coronet\n",
              "12     adventure copper beeches\n",
              "Name: hikayeler, dtype: object"
            ]
          },
          "metadata": {
            "tags": []
          },
          "execution_count": 65
        }
      ]
    },
    {
      "cell_type": "code",
      "metadata": {
        "id": "-JaGQ1zYvkjY",
        "colab_type": "code",
        "colab": {}
      },
      "source": [
        "d_mdf=d_mdf[\"hikayeler\"].apply(lambda x: \" \".join(x for x in x.split() if x not in sw))"
      ],
      "execution_count": 0,
      "outputs": []
    },
    {
      "cell_type": "markdown",
      "metadata": {
        "id": "4SOp-urPCklU",
        "colab_type": "text"
      },
      "source": [
        "**Az Geçen Kelimelerin Silinmesi**"
      ]
    },
    {
      "cell_type": "code",
      "metadata": {
        "id": "0WPVCqxoDQcn",
        "colab_type": "code",
        "colab": {}
      },
      "source": [
        "d_mdf=pd.DataFrame(d_mdf, columns=[\"hikayeler\"])"
      ],
      "execution_count": 0,
      "outputs": []
    },
    {
      "cell_type": "code",
      "metadata": {
        "id": "G1c9_SX4CqTS",
        "colab_type": "code",
        "outputId": "8230fcee-8994-466d-eac0-5e93be759ab6",
        "colab": {
          "base_uri": "https://localhost:8080/",
          "height": 510
        }
      },
      "source": [
        "pd.Series(\" \".join(d_mdf[\"hikayeler\"]).split()).value_counts()"
      ],
      "execution_count": 29,
      "outputs": [
        {
          "output_type": "execute_result",
          "data": {
            "text/plain": [
              "adventure    6\n",
              "band         1\n",
              "case         1\n",
              "mystery      1\n",
              "speckled     1\n",
              "noble        1\n",
              "identity     1\n",
              "man          1\n",
              "twisted      1\n",
              "blue         1\n",
              "beryl        1\n",
              "league       1\n",
              "lip          1\n",
              "beeches      1\n",
              "copper       1\n",
              "bachelor     1\n",
              "redheaded    1\n",
              "carbuncle    1\n",
              "orange       1\n",
              "scandal      1\n",
              "valley       1\n",
              "boscombe     1\n",
              "thumb        1\n",
              "bohemia      1\n",
              "coronet      1\n",
              "engineers    1\n",
              "pips         1\n",
              "five         1\n",
              "dtype: int64"
            ]
          },
          "metadata": {
            "tags": []
          },
          "execution_count": 29
        }
      ]
    },
    {
      "cell_type": "code",
      "metadata": {
        "id": "10YdYYwPQM2N",
        "colab_type": "code",
        "colab": {
          "base_uri": "https://localhost:8080/",
          "height": 85
        },
        "outputId": "8359bee0-12a6-4942-bdd9-5146b6dcae94"
      },
      "source": [
        "sil=pd.Series(\" \".join(d_mdf[\"hikayeler\"]).split()).value_counts()[-3:]\n",
        "sil"
      ],
      "execution_count": 30,
      "outputs": [
        {
          "output_type": "execute_result",
          "data": {
            "text/plain": [
              "engineers    1\n",
              "pips         1\n",
              "five         1\n",
              "dtype: int64"
            ]
          },
          "metadata": {
            "tags": []
          },
          "execution_count": 30
        }
      ]
    },
    {
      "cell_type": "code",
      "metadata": {
        "id": "7jciIdsiE4DU",
        "colab_type": "code",
        "colab": {
          "base_uri": "https://localhost:8080/",
          "height": 238
        },
        "outputId": "6cd05440-c8c5-4878-fad6-67d580993aaa"
      },
      "source": [
        "d_mdf[\"hikayeler\"].apply(lambda x: \" \".join(x for x in x.split() if x not in sil))"
      ],
      "execution_count": 31,
      "outputs": [
        {
          "output_type": "execute_result",
          "data": {
            "text/plain": [
              "1              scandal bohemia\n",
              "2             redheaded league\n",
              "3                case identity\n",
              "4      boscombe valley mystery\n",
              "5                       orange\n",
              "6              man twisted lip\n",
              "7     adventure blue carbuncle\n",
              "8      adventure speckled band\n",
              "9              adventure thumb\n",
              "10    adventure noble bachelor\n",
              "11     adventure beryl coronet\n",
              "12    adventure copper beeches\n",
              "Name: hikayeler, dtype: object"
            ]
          },
          "metadata": {
            "tags": []
          },
          "execution_count": 31
        }
      ]
    },
    {
      "cell_type": "markdown",
      "metadata": {
        "id": "yKNKmVj-zTKf",
        "colab_type": "text"
      },
      "source": [
        "**Tokenization**"
      ]
    },
    {
      "cell_type": "code",
      "metadata": {
        "id": "3krbE7KHzWKL",
        "colab_type": "code",
        "colab": {
          "base_uri": "https://localhost:8080/",
          "height": 68
        },
        "outputId": "d5b21756-e4ce-4137-9a3d-09ba2ce104e2"
      },
      "source": [
        "nltk.download(\"punkt\")"
      ],
      "execution_count": 32,
      "outputs": [
        {
          "output_type": "stream",
          "text": [
            "[nltk_data] Downloading package punkt to /root/nltk_data...\n",
            "[nltk_data]   Unzipping tokenizers/punkt.zip.\n"
          ],
          "name": "stdout"
        },
        {
          "output_type": "execute_result",
          "data": {
            "text/plain": [
              "True"
            ]
          },
          "metadata": {
            "tags": []
          },
          "execution_count": 32
        }
      ]
    },
    {
      "cell_type": "code",
      "metadata": {
        "id": "rlA3hUO9zf5z",
        "colab_type": "code",
        "colab": {
          "base_uri": "https://localhost:8080/",
          "height": 68
        },
        "outputId": "21c15279-102b-403e-e3ee-1a4f7aed9634"
      },
      "source": [
        "!pip install textblob"
      ],
      "execution_count": 33,
      "outputs": [
        {
          "output_type": "stream",
          "text": [
            "Requirement already satisfied: textblob in /usr/local/lib/python3.6/dist-packages (0.15.3)\n",
            "Requirement already satisfied: nltk>=3.1 in /usr/local/lib/python3.6/dist-packages (from textblob) (3.2.5)\n",
            "Requirement already satisfied: six in /usr/local/lib/python3.6/dist-packages (from nltk>=3.1->textblob) (1.12.0)\n"
          ],
          "name": "stdout"
        }
      ]
    },
    {
      "cell_type": "code",
      "metadata": {
        "id": "IEhP7TOYzlQj",
        "colab_type": "code",
        "colab": {}
      },
      "source": [
        "import textblob\n",
        "from textblob import TextBlob"
      ],
      "execution_count": 0,
      "outputs": []
    },
    {
      "cell_type": "code",
      "metadata": {
        "id": "ILb-Zy90ztiM",
        "colab_type": "code",
        "colab": {
          "base_uri": "https://localhost:8080/",
          "height": 34
        },
        "outputId": "e0b2d3c9-2936-4b9c-a8d4-93c8a4c63846"
      },
      "source": [
        "TextBlob(d_mdf[\"hikayeler\"][1]).words   #listeye ayrıştırıyor."
      ],
      "execution_count": 35,
      "outputs": [
        {
          "output_type": "execute_result",
          "data": {
            "text/plain": [
              "WordList(['scandal', 'bohemia'])"
            ]
          },
          "metadata": {
            "tags": []
          },
          "execution_count": 35
        }
      ]
    },
    {
      "cell_type": "code",
      "metadata": {
        "id": "CQEPVbF6z3Sz",
        "colab_type": "code",
        "colab": {
          "base_uri": "https://localhost:8080/",
          "height": 238
        },
        "outputId": "11a9dad6-2792-46c9-bc7e-8ca0f8ea36ff"
      },
      "source": [
        "d_mdf[\"hikayeler\"].apply(lambda x: TextBlob(x).words) #listeye ayrıştırıyor. bütün hepsine de apply ve lambda yardımcı oluyor"
      ],
      "execution_count": 36,
      "outputs": [
        {
          "output_type": "execute_result",
          "data": {
            "text/plain": [
              "1                [scandal, bohemia]\n",
              "2               [redheaded, league]\n",
              "3                  [case, identity]\n",
              "4       [boscombe, valley, mystery]\n",
              "5              [five, orange, pips]\n",
              "6               [man, twisted, lip]\n",
              "7      [adventure, blue, carbuncle]\n",
              "8       [adventure, speckled, band]\n",
              "9     [adventure, engineers, thumb]\n",
              "10     [adventure, noble, bachelor]\n",
              "11      [adventure, beryl, coronet]\n",
              "12     [adventure, copper, beeches]\n",
              "Name: hikayeler, dtype: object"
            ]
          },
          "metadata": {
            "tags": []
          },
          "execution_count": 36
        }
      ]
    },
    {
      "cell_type": "markdown",
      "metadata": {
        "id": "Dz9VJiGQ0WG2",
        "colab_type": "text"
      },
      "source": [
        "**Stemming**"
      ]
    },
    {
      "cell_type": "code",
      "metadata": {
        "id": "SXfjcc2u0YJk",
        "colab_type": "code",
        "colab": {}
      },
      "source": [
        "#kelimelerin sonundaki takıları atma\n",
        "from nltk.stem import PorterStemmer\n",
        "st=PorterStemmer()"
      ],
      "execution_count": 0,
      "outputs": []
    },
    {
      "cell_type": "code",
      "metadata": {
        "id": "tZ4lOvSg075U",
        "colab_type": "code",
        "colab": {
          "base_uri": "https://localhost:8080/",
          "height": 238
        },
        "outputId": "172b9712-b143-4bea-8548-60693670ba43"
      },
      "source": [
        "d_mdf[\"hikayeler\"].apply(lambda x: \" \".join([st.stem(i) for i in x.split()]))"
      ],
      "execution_count": 39,
      "outputs": [
        {
          "output_type": "execute_result",
          "data": {
            "text/plain": [
              "1            scandal bohemia\n",
              "2              redhead leagu\n",
              "3                 case ident\n",
              "4     boscomb valley mysteri\n",
              "5             five orang pip\n",
              "6              man twist lip\n",
              "7     adventur blue carbuncl\n",
              "8       adventur speckl band\n",
              "9       adventur engin thumb\n",
              "10    adventur nobl bachelor\n",
              "11    adventur beryl coronet\n",
              "12     adventur copper beech\n",
              "Name: hikayeler, dtype: object"
            ]
          },
          "metadata": {
            "tags": []
          },
          "execution_count": 39
        }
      ]
    },
    {
      "cell_type": "markdown",
      "metadata": {
        "id": "MvFn6CtZ2lSn",
        "colab_type": "text"
      },
      "source": [
        "**Lemmatization**"
      ]
    },
    {
      "cell_type": "code",
      "metadata": {
        "id": "dVVSaKkK2ou8",
        "colab_type": "code",
        "colab": {
          "base_uri": "https://localhost:8080/",
          "height": 68
        },
        "outputId": "d539fd0d-2bf0-465b-eec4-b7eb59e97961"
      },
      "source": [
        "from textblob import  Word\n",
        "nltk.download(\"wordnet\")"
      ],
      "execution_count": 42,
      "outputs": [
        {
          "output_type": "stream",
          "text": [
            "[nltk_data] Downloading package wordnet to /root/nltk_data...\n",
            "[nltk_data]   Package wordnet is already up-to-date!\n"
          ],
          "name": "stdout"
        },
        {
          "output_type": "execute_result",
          "data": {
            "text/plain": [
              "True"
            ]
          },
          "metadata": {
            "tags": []
          },
          "execution_count": 42
        }
      ]
    },
    {
      "cell_type": "code",
      "metadata": {
        "id": "3axT88pE3C4x",
        "colab_type": "code",
        "colab": {
          "base_uri": "https://localhost:8080/",
          "height": 238
        },
        "outputId": "09e2036f-63fc-46ac-b5df-35016463d7c0"
      },
      "source": [
        "d_mdf[\"hikayeler\"].apply(lambda x: \" \".join([Word(i).lemmatize() for i in x.split()]))"
      ],
      "execution_count": 41,
      "outputs": [
        {
          "output_type": "execute_result",
          "data": {
            "text/plain": [
              "1              scandal bohemia\n",
              "2             redheaded league\n",
              "3                case identity\n",
              "4      boscombe valley mystery\n",
              "5              five orange pip\n",
              "6              man twisted lip\n",
              "7     adventure blue carbuncle\n",
              "8      adventure speckled band\n",
              "9     adventure engineer thumb\n",
              "10    adventure noble bachelor\n",
              "11     adventure beryl coronet\n",
              "12      adventure copper beech\n",
              "Name: hikayeler, dtype: object"
            ]
          },
          "metadata": {
            "tags": []
          },
          "execution_count": 41
        }
      ]
    },
    {
      "cell_type": "code",
      "metadata": {
        "id": "OqRUDFH96CJF",
        "colab_type": "code",
        "colab": {
          "base_uri": "https://localhost:8080/",
          "height": 119
        },
        "outputId": "37c28569-8120-4231-cf00-369b9fb5e9cd"
      },
      "source": [
        "mdf[\"hikayeler\"][0:5]  #ilk hali"
      ],
      "execution_count": 43,
      "outputs": [
        {
          "output_type": "execute_result",
          "data": {
            "text/plain": [
              "1        A Scandal in Bohemia! 01\n",
              "2         The Red-headed League,2\n",
              "3           A Case, of Identity33\n",
              "4    The Boscombe Valley Mystery4\n",
              "5           The Five Orange Pips1\n",
              "Name: hikayeler, dtype: object"
            ]
          },
          "metadata": {
            "tags": []
          },
          "execution_count": 43
        }
      ]
    },
    {
      "cell_type": "code",
      "metadata": {
        "id": "1EhpSS-O6J-E",
        "colab_type": "code",
        "colab": {
          "base_uri": "https://localhost:8080/",
          "height": 119
        },
        "outputId": "2479cf82-fe9a-457b-88bf-16bb642b0982"
      },
      "source": [
        "d_mdf[\"hikayeler\"][0:5]  #son hali"
      ],
      "execution_count": 44,
      "outputs": [
        {
          "output_type": "execute_result",
          "data": {
            "text/plain": [
              "1            scandal bohemia\n",
              "2           redheaded league\n",
              "3              case identity\n",
              "4    boscombe valley mystery\n",
              "5           five orange pips\n",
              "Name: hikayeler, dtype: object"
            ]
          },
          "metadata": {
            "tags": []
          },
          "execution_count": 44
        }
      ]
    }
  ]
}