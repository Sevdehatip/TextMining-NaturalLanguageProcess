{
  "nbformat": 4,
  "nbformat_minor": 0,
  "metadata": {
    "colab": {
      "name": "MathOpert.ipynb",
      "provenance": []
    },
    "kernelspec": {
      "name": "python3",
      "display_name": "Python 3"
    }
  },
  "cells": [
    {
      "cell_type": "markdown",
      "metadata": {
        "id": "5Y8WL3nwx3qp",
        "colab_type": "text"
      },
      "source": [
        "# **Matematiksel İşlemler ve Basit Özellik Çıkarımı**"
      ]
    },
    {
      "cell_type": "code",
      "metadata": {
        "id": "zXut46eDugau",
        "colab_type": "code",
        "colab": {
          "base_uri": "https://localhost:8080/",
          "height": 54
        },
        "outputId": "6119f5f6-a406-4eb6-fa64-cd0eeaa67ae9"
      },
      "source": [
        " metin=\"\"\"\n",
        "A Scandal in Bohemia! 01\n",
        "The Red-headed League,2\n",
        "A Case, of Identity33\n",
        "The Boscombe Valley Mystery4\n",
        "The Five Orange Pips1\n",
        "The Man with? the Twisted Lip\n",
        "The Adventure of the Blue Carbuncle\n",
        "The Adventure of the Speckled Band\n",
        "The Adventure of the Engineer’s Thumb\n",
        "The Adventure of the Noble Bachelor\n",
        "The Adventure of the Beryl Coronet\n",
        "The Adventure of the Copper Beeches\"\"\"\n",
        "#noisy text\n",
        "metin"
      ],
      "execution_count": 30,
      "outputs": [
        {
          "output_type": "execute_result",
          "data": {
            "text/plain": [
              "'\\nA Scandal in Bohemia! 01\\nThe Red-headed League,2\\nA Case, of Identity33\\nThe Boscombe Valley Mystery4\\nThe Five Orange Pips1\\nThe Man with? the Twisted Lip\\nThe Adventure of the Blue Carbuncle\\nThe Adventure of the Speckled Band\\nThe Adventure of the Engineer’s Thumb\\nThe Adventure of the Noble Bachelor\\nThe Adventure of the Beryl Coronet\\nThe Adventure of the Copper Beeches'"
            ]
          },
          "metadata": {
            "tags": []
          },
          "execution_count": 30
        }
      ]
    },
    {
      "cell_type": "code",
      "metadata": {
        "id": "4LIZNhISxPvL",
        "colab_type": "code",
        "colab": {}
      },
      "source": [
        "v_metin=metin.split(\"\\n\")"
      ],
      "execution_count": 0,
      "outputs": []
    },
    {
      "cell_type": "code",
      "metadata": {
        "id": "uOpEW3_xxR0-",
        "colab_type": "code",
        "colab": {
          "base_uri": "https://localhost:8080/",
          "height": 255
        },
        "outputId": "f7738244-d0d5-4979-ec4f-4e0a6901ea1b"
      },
      "source": [
        "import pandas as pd\n",
        "v=pd.Series(v_metin)\n",
        "v"
      ],
      "execution_count": 32,
      "outputs": [
        {
          "output_type": "execute_result",
          "data": {
            "text/plain": [
              "0                                          \n",
              "1                  A Scandal in Bohemia! 01\n",
              "2                   The Red-headed League,2\n",
              "3                     A Case, of Identity33\n",
              "4              The Boscombe Valley Mystery4\n",
              "5                     The Five Orange Pips1\n",
              "6             The Man with? the Twisted Lip\n",
              "7       The Adventure of the Blue Carbuncle\n",
              "8        The Adventure of the Speckled Band\n",
              "9     The Adventure of the Engineer’s Thumb\n",
              "10      The Adventure of the Noble Bachelor\n",
              "11       The Adventure of the Beryl Coronet\n",
              "12      The Adventure of the Copper Beeches\n",
              "dtype: object"
            ]
          },
          "metadata": {
            "tags": []
          },
          "execution_count": 32
        }
      ]
    },
    {
      "cell_type": "code",
      "metadata": {
        "id": "pj1ZkFGqyO1Z",
        "colab_type": "code",
        "colab": {
          "base_uri": "https://localhost:8080/",
          "height": 238
        },
        "outputId": "016e56ee-d645-49dd-8b33-10376cc8f327"
      },
      "source": [
        "metin_vektörü=v[1:len(v)]\n",
        "metin_vektörü"
      ],
      "execution_count": 33,
      "outputs": [
        {
          "output_type": "execute_result",
          "data": {
            "text/plain": [
              "1                  A Scandal in Bohemia! 01\n",
              "2                   The Red-headed League,2\n",
              "3                     A Case, of Identity33\n",
              "4              The Boscombe Valley Mystery4\n",
              "5                     The Five Orange Pips1\n",
              "6             The Man with? the Twisted Lip\n",
              "7       The Adventure of the Blue Carbuncle\n",
              "8        The Adventure of the Speckled Band\n",
              "9     The Adventure of the Engineer’s Thumb\n",
              "10      The Adventure of the Noble Bachelor\n",
              "11       The Adventure of the Beryl Coronet\n",
              "12      The Adventure of the Copper Beeches\n",
              "dtype: object"
            ]
          },
          "metadata": {
            "tags": []
          },
          "execution_count": 33
        }
      ]
    },
    {
      "cell_type": "code",
      "metadata": {
        "id": "jGXi5J53xeii",
        "colab_type": "code",
        "colab": {
          "base_uri": "https://localhost:8080/",
          "height": 421
        },
        "outputId": "c72eee67-2443-4675-9b5b-ff0dc141c71b"
      },
      "source": [
        "mdf=pd.DataFrame(metin_vektörü, columns=[\"hikayeler\"])\n",
        "mdf"
      ],
      "execution_count": 34,
      "outputs": [
        {
          "output_type": "execute_result",
          "data": {
            "text/html": [
              "<div>\n",
              "<style scoped>\n",
              "    .dataframe tbody tr th:only-of-type {\n",
              "        vertical-align: middle;\n",
              "    }\n",
              "\n",
              "    .dataframe tbody tr th {\n",
              "        vertical-align: top;\n",
              "    }\n",
              "\n",
              "    .dataframe thead th {\n",
              "        text-align: right;\n",
              "    }\n",
              "</style>\n",
              "<table border=\"1\" class=\"dataframe\">\n",
              "  <thead>\n",
              "    <tr style=\"text-align: right;\">\n",
              "      <th></th>\n",
              "      <th>hikayeler</th>\n",
              "    </tr>\n",
              "  </thead>\n",
              "  <tbody>\n",
              "    <tr>\n",
              "      <th>1</th>\n",
              "      <td>A Scandal in Bohemia! 01</td>\n",
              "    </tr>\n",
              "    <tr>\n",
              "      <th>2</th>\n",
              "      <td>The Red-headed League,2</td>\n",
              "    </tr>\n",
              "    <tr>\n",
              "      <th>3</th>\n",
              "      <td>A Case, of Identity33</td>\n",
              "    </tr>\n",
              "    <tr>\n",
              "      <th>4</th>\n",
              "      <td>The Boscombe Valley Mystery4</td>\n",
              "    </tr>\n",
              "    <tr>\n",
              "      <th>5</th>\n",
              "      <td>The Five Orange Pips1</td>\n",
              "    </tr>\n",
              "    <tr>\n",
              "      <th>6</th>\n",
              "      <td>The Man with? the Twisted Lip</td>\n",
              "    </tr>\n",
              "    <tr>\n",
              "      <th>7</th>\n",
              "      <td>The Adventure of the Blue Carbuncle</td>\n",
              "    </tr>\n",
              "    <tr>\n",
              "      <th>8</th>\n",
              "      <td>The Adventure of the Speckled Band</td>\n",
              "    </tr>\n",
              "    <tr>\n",
              "      <th>9</th>\n",
              "      <td>The Adventure of the Engineer’s Thumb</td>\n",
              "    </tr>\n",
              "    <tr>\n",
              "      <th>10</th>\n",
              "      <td>The Adventure of the Noble Bachelor</td>\n",
              "    </tr>\n",
              "    <tr>\n",
              "      <th>11</th>\n",
              "      <td>The Adventure of the Beryl Coronet</td>\n",
              "    </tr>\n",
              "    <tr>\n",
              "      <th>12</th>\n",
              "      <td>The Adventure of the Copper Beeches</td>\n",
              "    </tr>\n",
              "  </tbody>\n",
              "</table>\n",
              "</div>"
            ],
            "text/plain": [
              "                                hikayeler\n",
              "1                A Scandal in Bohemia! 01\n",
              "2                 The Red-headed League,2\n",
              "3                   A Case, of Identity33\n",
              "4            The Boscombe Valley Mystery4\n",
              "5                   The Five Orange Pips1\n",
              "6           The Man with? the Twisted Lip\n",
              "7     The Adventure of the Blue Carbuncle\n",
              "8      The Adventure of the Speckled Band\n",
              "9   The Adventure of the Engineer’s Thumb\n",
              "10    The Adventure of the Noble Bachelor\n",
              "11     The Adventure of the Beryl Coronet\n",
              "12    The Adventure of the Copper Beeches"
            ]
          },
          "metadata": {
            "tags": []
          },
          "execution_count": 34
        }
      ]
    },
    {
      "cell_type": "markdown",
      "metadata": {
        "id": "SnyyQmlZxwhp",
        "colab_type": "text"
      },
      "source": [
        "**Harf/Karakter Sayısı**"
      ]
    },
    {
      "cell_type": "code",
      "metadata": {
        "id": "uffqKw3IzANW",
        "colab_type": "code",
        "colab": {}
      },
      "source": [
        "o_df=mdf.copy()"
      ],
      "execution_count": 0,
      "outputs": []
    },
    {
      "cell_type": "code",
      "metadata": {
        "id": "MeivJjohxkA5",
        "colab_type": "code",
        "colab": {
          "base_uri": "https://localhost:8080/",
          "height": 238
        },
        "outputId": "525aca05-e8e2-4c1e-9106-817ee54c0f7f"
      },
      "source": [
        "o_df[\"hikayeler\"].str.len()"
      ],
      "execution_count": 36,
      "outputs": [
        {
          "output_type": "execute_result",
          "data": {
            "text/plain": [
              "1     24\n",
              "2     23\n",
              "3     21\n",
              "4     28\n",
              "5     21\n",
              "6     29\n",
              "7     35\n",
              "8     34\n",
              "9     37\n",
              "10    35\n",
              "11    34\n",
              "12    35\n",
              "Name: hikayeler, dtype: int64"
            ]
          },
          "metadata": {
            "tags": []
          },
          "execution_count": 36
        }
      ]
    },
    {
      "cell_type": "code",
      "metadata": {
        "id": "M_QBKF0bzIRt",
        "colab_type": "code",
        "colab": {}
      },
      "source": [
        "o_df[\"harf_sayisi\"]=o_df[\"hikayeler\"].str.len()"
      ],
      "execution_count": 0,
      "outputs": []
    },
    {
      "cell_type": "code",
      "metadata": {
        "id": "gfxTmkNczVuP",
        "colab_type": "code",
        "colab": {
          "base_uri": "https://localhost:8080/",
          "height": 421
        },
        "outputId": "53d7c2f4-7512-4b68-84b8-ac0ef8e70998"
      },
      "source": [
        "o_df"
      ],
      "execution_count": 38,
      "outputs": [
        {
          "output_type": "execute_result",
          "data": {
            "text/html": [
              "<div>\n",
              "<style scoped>\n",
              "    .dataframe tbody tr th:only-of-type {\n",
              "        vertical-align: middle;\n",
              "    }\n",
              "\n",
              "    .dataframe tbody tr th {\n",
              "        vertical-align: top;\n",
              "    }\n",
              "\n",
              "    .dataframe thead th {\n",
              "        text-align: right;\n",
              "    }\n",
              "</style>\n",
              "<table border=\"1\" class=\"dataframe\">\n",
              "  <thead>\n",
              "    <tr style=\"text-align: right;\">\n",
              "      <th></th>\n",
              "      <th>hikayeler</th>\n",
              "      <th>harf_sayisi</th>\n",
              "    </tr>\n",
              "  </thead>\n",
              "  <tbody>\n",
              "    <tr>\n",
              "      <th>1</th>\n",
              "      <td>A Scandal in Bohemia! 01</td>\n",
              "      <td>24</td>\n",
              "    </tr>\n",
              "    <tr>\n",
              "      <th>2</th>\n",
              "      <td>The Red-headed League,2</td>\n",
              "      <td>23</td>\n",
              "    </tr>\n",
              "    <tr>\n",
              "      <th>3</th>\n",
              "      <td>A Case, of Identity33</td>\n",
              "      <td>21</td>\n",
              "    </tr>\n",
              "    <tr>\n",
              "      <th>4</th>\n",
              "      <td>The Boscombe Valley Mystery4</td>\n",
              "      <td>28</td>\n",
              "    </tr>\n",
              "    <tr>\n",
              "      <th>5</th>\n",
              "      <td>The Five Orange Pips1</td>\n",
              "      <td>21</td>\n",
              "    </tr>\n",
              "    <tr>\n",
              "      <th>6</th>\n",
              "      <td>The Man with? the Twisted Lip</td>\n",
              "      <td>29</td>\n",
              "    </tr>\n",
              "    <tr>\n",
              "      <th>7</th>\n",
              "      <td>The Adventure of the Blue Carbuncle</td>\n",
              "      <td>35</td>\n",
              "    </tr>\n",
              "    <tr>\n",
              "      <th>8</th>\n",
              "      <td>The Adventure of the Speckled Band</td>\n",
              "      <td>34</td>\n",
              "    </tr>\n",
              "    <tr>\n",
              "      <th>9</th>\n",
              "      <td>The Adventure of the Engineer’s Thumb</td>\n",
              "      <td>37</td>\n",
              "    </tr>\n",
              "    <tr>\n",
              "      <th>10</th>\n",
              "      <td>The Adventure of the Noble Bachelor</td>\n",
              "      <td>35</td>\n",
              "    </tr>\n",
              "    <tr>\n",
              "      <th>11</th>\n",
              "      <td>The Adventure of the Beryl Coronet</td>\n",
              "      <td>34</td>\n",
              "    </tr>\n",
              "    <tr>\n",
              "      <th>12</th>\n",
              "      <td>The Adventure of the Copper Beeches</td>\n",
              "      <td>35</td>\n",
              "    </tr>\n",
              "  </tbody>\n",
              "</table>\n",
              "</div>"
            ],
            "text/plain": [
              "                                hikayeler  harf_sayisi\n",
              "1                A Scandal in Bohemia! 01           24\n",
              "2                 The Red-headed League,2           23\n",
              "3                   A Case, of Identity33           21\n",
              "4            The Boscombe Valley Mystery4           28\n",
              "5                   The Five Orange Pips1           21\n",
              "6           The Man with? the Twisted Lip           29\n",
              "7     The Adventure of the Blue Carbuncle           35\n",
              "8      The Adventure of the Speckled Band           34\n",
              "9   The Adventure of the Engineer’s Thumb           37\n",
              "10    The Adventure of the Noble Bachelor           35\n",
              "11     The Adventure of the Beryl Coronet           34\n",
              "12    The Adventure of the Copper Beeches           35"
            ]
          },
          "metadata": {
            "tags": []
          },
          "execution_count": 38
        }
      ]
    },
    {
      "cell_type": "markdown",
      "metadata": {
        "id": "yNfWOQkQze0i",
        "colab_type": "text"
      },
      "source": [
        "**Kelime Sayısı**"
      ]
    },
    {
      "cell_type": "code",
      "metadata": {
        "id": "LdqEcLDdziDV",
        "colab_type": "code",
        "colab": {}
      },
      "source": [
        "a=\"scandal in a bohemia\""
      ],
      "execution_count": 0,
      "outputs": []
    },
    {
      "cell_type": "code",
      "metadata": {
        "id": "t9Hyk0G8zo7_",
        "colab_type": "code",
        "colab": {
          "base_uri": "https://localhost:8080/",
          "height": 34
        },
        "outputId": "ab45c44e-40b4-486b-8539-51cd701aa0a9"
      },
      "source": [
        "a.split()"
      ],
      "execution_count": 40,
      "outputs": [
        {
          "output_type": "execute_result",
          "data": {
            "text/plain": [
              "['scandal', 'in', 'a', 'bohemia']"
            ]
          },
          "metadata": {
            "tags": []
          },
          "execution_count": 40
        }
      ]
    },
    {
      "cell_type": "code",
      "metadata": {
        "id": "Ix_80PsYzrEE",
        "colab_type": "code",
        "colab": {
          "base_uri": "https://localhost:8080/",
          "height": 34
        },
        "outputId": "f23505d0-1dda-4e85-9bb3-a689910247c0"
      },
      "source": [
        "len(a.split())"
      ],
      "execution_count": 41,
      "outputs": [
        {
          "output_type": "execute_result",
          "data": {
            "text/plain": [
              "4"
            ]
          },
          "metadata": {
            "tags": []
          },
          "execution_count": 41
        }
      ]
    },
    {
      "cell_type": "code",
      "metadata": {
        "id": "KfYV50Tjz4QN",
        "colab_type": "code",
        "colab": {
          "base_uri": "https://localhost:8080/",
          "height": 80
        },
        "outputId": "66b80c08-56ee-4ce3-bb7e-84a6f63bf452"
      },
      "source": [
        "o_df.iloc[0:1,0:1]"
      ],
      "execution_count": 42,
      "outputs": [
        {
          "output_type": "execute_result",
          "data": {
            "text/html": [
              "<div>\n",
              "<style scoped>\n",
              "    .dataframe tbody tr th:only-of-type {\n",
              "        vertical-align: middle;\n",
              "    }\n",
              "\n",
              "    .dataframe tbody tr th {\n",
              "        vertical-align: top;\n",
              "    }\n",
              "\n",
              "    .dataframe thead th {\n",
              "        text-align: right;\n",
              "    }\n",
              "</style>\n",
              "<table border=\"1\" class=\"dataframe\">\n",
              "  <thead>\n",
              "    <tr style=\"text-align: right;\">\n",
              "      <th></th>\n",
              "      <th>hikayeler</th>\n",
              "    </tr>\n",
              "  </thead>\n",
              "  <tbody>\n",
              "    <tr>\n",
              "      <th>1</th>\n",
              "      <td>A Scandal in Bohemia! 01</td>\n",
              "    </tr>\n",
              "  </tbody>\n",
              "</table>\n",
              "</div>"
            ],
            "text/plain": [
              "                  hikayeler\n",
              "1  A Scandal in Bohemia! 01"
            ]
          },
          "metadata": {
            "tags": []
          },
          "execution_count": 42
        }
      ]
    },
    {
      "cell_type": "code",
      "metadata": {
        "id": "x91ZTImk0NA_",
        "colab_type": "code",
        "colab": {}
      },
      "source": [
        "o_df[\"kelime_sayisi\"]=o_df[\"hikayeler\"].apply(lambda x:len(str(x). split(\" \")))\n"
      ],
      "execution_count": 0,
      "outputs": []
    },
    {
      "cell_type": "code",
      "metadata": {
        "id": "C8NUvuOV1DCg",
        "colab_type": "code",
        "colab": {
          "base_uri": "https://localhost:8080/",
          "height": 421
        },
        "outputId": "ec000be9-402d-4358-bf6a-82b3a2e439a8"
      },
      "source": [
        "o_df"
      ],
      "execution_count": 44,
      "outputs": [
        {
          "output_type": "execute_result",
          "data": {
            "text/html": [
              "<div>\n",
              "<style scoped>\n",
              "    .dataframe tbody tr th:only-of-type {\n",
              "        vertical-align: middle;\n",
              "    }\n",
              "\n",
              "    .dataframe tbody tr th {\n",
              "        vertical-align: top;\n",
              "    }\n",
              "\n",
              "    .dataframe thead th {\n",
              "        text-align: right;\n",
              "    }\n",
              "</style>\n",
              "<table border=\"1\" class=\"dataframe\">\n",
              "  <thead>\n",
              "    <tr style=\"text-align: right;\">\n",
              "      <th></th>\n",
              "      <th>hikayeler</th>\n",
              "      <th>harf_sayisi</th>\n",
              "      <th>kelime_sayisi</th>\n",
              "    </tr>\n",
              "  </thead>\n",
              "  <tbody>\n",
              "    <tr>\n",
              "      <th>1</th>\n",
              "      <td>A Scandal in Bohemia! 01</td>\n",
              "      <td>24</td>\n",
              "      <td>5</td>\n",
              "    </tr>\n",
              "    <tr>\n",
              "      <th>2</th>\n",
              "      <td>The Red-headed League,2</td>\n",
              "      <td>23</td>\n",
              "      <td>3</td>\n",
              "    </tr>\n",
              "    <tr>\n",
              "      <th>3</th>\n",
              "      <td>A Case, of Identity33</td>\n",
              "      <td>21</td>\n",
              "      <td>4</td>\n",
              "    </tr>\n",
              "    <tr>\n",
              "      <th>4</th>\n",
              "      <td>The Boscombe Valley Mystery4</td>\n",
              "      <td>28</td>\n",
              "      <td>4</td>\n",
              "    </tr>\n",
              "    <tr>\n",
              "      <th>5</th>\n",
              "      <td>The Five Orange Pips1</td>\n",
              "      <td>21</td>\n",
              "      <td>4</td>\n",
              "    </tr>\n",
              "    <tr>\n",
              "      <th>6</th>\n",
              "      <td>The Man with? the Twisted Lip</td>\n",
              "      <td>29</td>\n",
              "      <td>6</td>\n",
              "    </tr>\n",
              "    <tr>\n",
              "      <th>7</th>\n",
              "      <td>The Adventure of the Blue Carbuncle</td>\n",
              "      <td>35</td>\n",
              "      <td>6</td>\n",
              "    </tr>\n",
              "    <tr>\n",
              "      <th>8</th>\n",
              "      <td>The Adventure of the Speckled Band</td>\n",
              "      <td>34</td>\n",
              "      <td>6</td>\n",
              "    </tr>\n",
              "    <tr>\n",
              "      <th>9</th>\n",
              "      <td>The Adventure of the Engineer’s Thumb</td>\n",
              "      <td>37</td>\n",
              "      <td>6</td>\n",
              "    </tr>\n",
              "    <tr>\n",
              "      <th>10</th>\n",
              "      <td>The Adventure of the Noble Bachelor</td>\n",
              "      <td>35</td>\n",
              "      <td>6</td>\n",
              "    </tr>\n",
              "    <tr>\n",
              "      <th>11</th>\n",
              "      <td>The Adventure of the Beryl Coronet</td>\n",
              "      <td>34</td>\n",
              "      <td>6</td>\n",
              "    </tr>\n",
              "    <tr>\n",
              "      <th>12</th>\n",
              "      <td>The Adventure of the Copper Beeches</td>\n",
              "      <td>35</td>\n",
              "      <td>6</td>\n",
              "    </tr>\n",
              "  </tbody>\n",
              "</table>\n",
              "</div>"
            ],
            "text/plain": [
              "                                hikayeler  harf_sayisi  kelime_sayisi\n",
              "1                A Scandal in Bohemia! 01           24              5\n",
              "2                 The Red-headed League,2           23              3\n",
              "3                   A Case, of Identity33           21              4\n",
              "4            The Boscombe Valley Mystery4           28              4\n",
              "5                   The Five Orange Pips1           21              4\n",
              "6           The Man with? the Twisted Lip           29              6\n",
              "7     The Adventure of the Blue Carbuncle           35              6\n",
              "8      The Adventure of the Speckled Band           34              6\n",
              "9   The Adventure of the Engineer’s Thumb           37              6\n",
              "10    The Adventure of the Noble Bachelor           35              6\n",
              "11     The Adventure of the Beryl Coronet           34              6\n",
              "12    The Adventure of the Copper Beeches           35              6"
            ]
          },
          "metadata": {
            "tags": []
          },
          "execution_count": 44
        }
      ]
    },
    {
      "cell_type": "markdown",
      "metadata": {
        "id": "Ixva84dx1kc3",
        "colab_type": "text"
      },
      "source": [
        "**Özel Karakterleri Yakalamak & Saydırmak**"
      ]
    },
    {
      "cell_type": "code",
      "metadata": {
        "id": "BXWKAMsH1sUA",
        "colab_type": "code",
        "colab": {
          "base_uri": "https://localhost:8080/",
          "height": 238
        },
        "outputId": "b1118112-01ec-4739-953b-9f391c1e28c2"
      },
      "source": [
        "o_df[\"hikayeler\"].apply(lambda x: len([x for x in x.split() if x.startswith(\"Adventure\")]))"
      ],
      "execution_count": 48,
      "outputs": [
        {
          "output_type": "execute_result",
          "data": {
            "text/plain": [
              "1     0\n",
              "2     0\n",
              "3     0\n",
              "4     0\n",
              "5     0\n",
              "6     0\n",
              "7     1\n",
              "8     1\n",
              "9     1\n",
              "10    1\n",
              "11    1\n",
              "12    1\n",
              "Name: hikayeler, dtype: int64"
            ]
          },
          "metadata": {
            "tags": []
          },
          "execution_count": 48
        }
      ]
    },
    {
      "cell_type": "code",
      "metadata": {
        "id": "T9qTppfz3Ak1",
        "colab_type": "code",
        "colab": {}
      },
      "source": [
        "o_df[\"ozel_karakter_sayisi\"]=o_df[\"hikayeler\"].apply(lambda x: len([x for x in x.split() if x.startswith(\"Adventure\")]))"
      ],
      "execution_count": 0,
      "outputs": []
    },
    {
      "cell_type": "code",
      "metadata": {
        "id": "jPIjzC0I3NiJ",
        "colab_type": "code",
        "colab": {
          "base_uri": "https://localhost:8080/",
          "height": 421
        },
        "outputId": "0db28c0e-0db8-477f-a285-85f3577de9db"
      },
      "source": [
        "o_df"
      ],
      "execution_count": 50,
      "outputs": [
        {
          "output_type": "execute_result",
          "data": {
            "text/html": [
              "<div>\n",
              "<style scoped>\n",
              "    .dataframe tbody tr th:only-of-type {\n",
              "        vertical-align: middle;\n",
              "    }\n",
              "\n",
              "    .dataframe tbody tr th {\n",
              "        vertical-align: top;\n",
              "    }\n",
              "\n",
              "    .dataframe thead th {\n",
              "        text-align: right;\n",
              "    }\n",
              "</style>\n",
              "<table border=\"1\" class=\"dataframe\">\n",
              "  <thead>\n",
              "    <tr style=\"text-align: right;\">\n",
              "      <th></th>\n",
              "      <th>hikayeler</th>\n",
              "      <th>harf_sayisi</th>\n",
              "      <th>kelime_sayisi</th>\n",
              "      <th>ozel_karakter_sayisi</th>\n",
              "    </tr>\n",
              "  </thead>\n",
              "  <tbody>\n",
              "    <tr>\n",
              "      <th>1</th>\n",
              "      <td>A Scandal in Bohemia! 01</td>\n",
              "      <td>24</td>\n",
              "      <td>5</td>\n",
              "      <td>0</td>\n",
              "    </tr>\n",
              "    <tr>\n",
              "      <th>2</th>\n",
              "      <td>The Red-headed League,2</td>\n",
              "      <td>23</td>\n",
              "      <td>3</td>\n",
              "      <td>0</td>\n",
              "    </tr>\n",
              "    <tr>\n",
              "      <th>3</th>\n",
              "      <td>A Case, of Identity33</td>\n",
              "      <td>21</td>\n",
              "      <td>4</td>\n",
              "      <td>0</td>\n",
              "    </tr>\n",
              "    <tr>\n",
              "      <th>4</th>\n",
              "      <td>The Boscombe Valley Mystery4</td>\n",
              "      <td>28</td>\n",
              "      <td>4</td>\n",
              "      <td>0</td>\n",
              "    </tr>\n",
              "    <tr>\n",
              "      <th>5</th>\n",
              "      <td>The Five Orange Pips1</td>\n",
              "      <td>21</td>\n",
              "      <td>4</td>\n",
              "      <td>0</td>\n",
              "    </tr>\n",
              "    <tr>\n",
              "      <th>6</th>\n",
              "      <td>The Man with? the Twisted Lip</td>\n",
              "      <td>29</td>\n",
              "      <td>6</td>\n",
              "      <td>0</td>\n",
              "    </tr>\n",
              "    <tr>\n",
              "      <th>7</th>\n",
              "      <td>The Adventure of the Blue Carbuncle</td>\n",
              "      <td>35</td>\n",
              "      <td>6</td>\n",
              "      <td>1</td>\n",
              "    </tr>\n",
              "    <tr>\n",
              "      <th>8</th>\n",
              "      <td>The Adventure of the Speckled Band</td>\n",
              "      <td>34</td>\n",
              "      <td>6</td>\n",
              "      <td>1</td>\n",
              "    </tr>\n",
              "    <tr>\n",
              "      <th>9</th>\n",
              "      <td>The Adventure of the Engineer’s Thumb</td>\n",
              "      <td>37</td>\n",
              "      <td>6</td>\n",
              "      <td>1</td>\n",
              "    </tr>\n",
              "    <tr>\n",
              "      <th>10</th>\n",
              "      <td>The Adventure of the Noble Bachelor</td>\n",
              "      <td>35</td>\n",
              "      <td>6</td>\n",
              "      <td>1</td>\n",
              "    </tr>\n",
              "    <tr>\n",
              "      <th>11</th>\n",
              "      <td>The Adventure of the Beryl Coronet</td>\n",
              "      <td>34</td>\n",
              "      <td>6</td>\n",
              "      <td>1</td>\n",
              "    </tr>\n",
              "    <tr>\n",
              "      <th>12</th>\n",
              "      <td>The Adventure of the Copper Beeches</td>\n",
              "      <td>35</td>\n",
              "      <td>6</td>\n",
              "      <td>1</td>\n",
              "    </tr>\n",
              "  </tbody>\n",
              "</table>\n",
              "</div>"
            ],
            "text/plain": [
              "                                hikayeler  ...  ozel_karakter_sayisi\n",
              "1                A Scandal in Bohemia! 01  ...                     0\n",
              "2                 The Red-headed League,2  ...                     0\n",
              "3                   A Case, of Identity33  ...                     0\n",
              "4            The Boscombe Valley Mystery4  ...                     0\n",
              "5                   The Five Orange Pips1  ...                     0\n",
              "6           The Man with? the Twisted Lip  ...                     0\n",
              "7     The Adventure of the Blue Carbuncle  ...                     1\n",
              "8      The Adventure of the Speckled Band  ...                     1\n",
              "9   The Adventure of the Engineer’s Thumb  ...                     1\n",
              "10    The Adventure of the Noble Bachelor  ...                     1\n",
              "11     The Adventure of the Beryl Coronet  ...                     1\n",
              "12    The Adventure of the Copper Beeches  ...                     1\n",
              "\n",
              "[12 rows x 4 columns]"
            ]
          },
          "metadata": {
            "tags": []
          },
          "execution_count": 50
        }
      ]
    },
    {
      "cell_type": "markdown",
      "metadata": {
        "id": "uciJwcOr3V2L",
        "colab_type": "text"
      },
      "source": [
        "**Sayıları Yakalamak ve Saydırmak**"
      ]
    },
    {
      "cell_type": "code",
      "metadata": {
        "id": "i2BQ0mcX3aNU",
        "colab_type": "code",
        "colab": {
          "base_uri": "https://localhost:8080/",
          "height": 238
        },
        "outputId": "219dc365-b2f3-43e3-d110-c087f6e59319"
      },
      "source": [
        "mdf[\"hikayeler\"].apply(lambda x: len([x for x in x.split() if x.isdigit()]))"
      ],
      "execution_count": 51,
      "outputs": [
        {
          "output_type": "execute_result",
          "data": {
            "text/plain": [
              "1     1\n",
              "2     0\n",
              "3     0\n",
              "4     0\n",
              "5     0\n",
              "6     0\n",
              "7     0\n",
              "8     0\n",
              "9     0\n",
              "10    0\n",
              "11    0\n",
              "12    0\n",
              "Name: hikayeler, dtype: int64"
            ]
          },
          "metadata": {
            "tags": []
          },
          "execution_count": 51
        }
      ]
    },
    {
      "cell_type": "code",
      "metadata": {
        "id": "fT15tGCc3qo3",
        "colab_type": "code",
        "colab": {}
      },
      "source": [
        "o_df[\"sayi_sayisi\"]=mdf[\"hikayeler\"].apply(lambda x: len([x for x in x.split() if x.isdigit()]))"
      ],
      "execution_count": 0,
      "outputs": []
    },
    {
      "cell_type": "code",
      "metadata": {
        "id": "kU5p8uI24Csx",
        "colab_type": "code",
        "colab": {
          "base_uri": "https://localhost:8080/",
          "height": 421
        },
        "outputId": "4d4fe246-2ecd-49ea-db6c-cbb02566f032"
      },
      "source": [
        "o_df"
      ],
      "execution_count": 53,
      "outputs": [
        {
          "output_type": "execute_result",
          "data": {
            "text/html": [
              "<div>\n",
              "<style scoped>\n",
              "    .dataframe tbody tr th:only-of-type {\n",
              "        vertical-align: middle;\n",
              "    }\n",
              "\n",
              "    .dataframe tbody tr th {\n",
              "        vertical-align: top;\n",
              "    }\n",
              "\n",
              "    .dataframe thead th {\n",
              "        text-align: right;\n",
              "    }\n",
              "</style>\n",
              "<table border=\"1\" class=\"dataframe\">\n",
              "  <thead>\n",
              "    <tr style=\"text-align: right;\">\n",
              "      <th></th>\n",
              "      <th>hikayeler</th>\n",
              "      <th>harf_sayisi</th>\n",
              "      <th>kelime_sayisi</th>\n",
              "      <th>ozel_karakter_sayisi</th>\n",
              "      <th>sayi_sayisi</th>\n",
              "    </tr>\n",
              "  </thead>\n",
              "  <tbody>\n",
              "    <tr>\n",
              "      <th>1</th>\n",
              "      <td>A Scandal in Bohemia! 01</td>\n",
              "      <td>24</td>\n",
              "      <td>5</td>\n",
              "      <td>0</td>\n",
              "      <td>1</td>\n",
              "    </tr>\n",
              "    <tr>\n",
              "      <th>2</th>\n",
              "      <td>The Red-headed League,2</td>\n",
              "      <td>23</td>\n",
              "      <td>3</td>\n",
              "      <td>0</td>\n",
              "      <td>0</td>\n",
              "    </tr>\n",
              "    <tr>\n",
              "      <th>3</th>\n",
              "      <td>A Case, of Identity33</td>\n",
              "      <td>21</td>\n",
              "      <td>4</td>\n",
              "      <td>0</td>\n",
              "      <td>0</td>\n",
              "    </tr>\n",
              "    <tr>\n",
              "      <th>4</th>\n",
              "      <td>The Boscombe Valley Mystery4</td>\n",
              "      <td>28</td>\n",
              "      <td>4</td>\n",
              "      <td>0</td>\n",
              "      <td>0</td>\n",
              "    </tr>\n",
              "    <tr>\n",
              "      <th>5</th>\n",
              "      <td>The Five Orange Pips1</td>\n",
              "      <td>21</td>\n",
              "      <td>4</td>\n",
              "      <td>0</td>\n",
              "      <td>0</td>\n",
              "    </tr>\n",
              "    <tr>\n",
              "      <th>6</th>\n",
              "      <td>The Man with? the Twisted Lip</td>\n",
              "      <td>29</td>\n",
              "      <td>6</td>\n",
              "      <td>0</td>\n",
              "      <td>0</td>\n",
              "    </tr>\n",
              "    <tr>\n",
              "      <th>7</th>\n",
              "      <td>The Adventure of the Blue Carbuncle</td>\n",
              "      <td>35</td>\n",
              "      <td>6</td>\n",
              "      <td>1</td>\n",
              "      <td>0</td>\n",
              "    </tr>\n",
              "    <tr>\n",
              "      <th>8</th>\n",
              "      <td>The Adventure of the Speckled Band</td>\n",
              "      <td>34</td>\n",
              "      <td>6</td>\n",
              "      <td>1</td>\n",
              "      <td>0</td>\n",
              "    </tr>\n",
              "    <tr>\n",
              "      <th>9</th>\n",
              "      <td>The Adventure of the Engineer’s Thumb</td>\n",
              "      <td>37</td>\n",
              "      <td>6</td>\n",
              "      <td>1</td>\n",
              "      <td>0</td>\n",
              "    </tr>\n",
              "    <tr>\n",
              "      <th>10</th>\n",
              "      <td>The Adventure of the Noble Bachelor</td>\n",
              "      <td>35</td>\n",
              "      <td>6</td>\n",
              "      <td>1</td>\n",
              "      <td>0</td>\n",
              "    </tr>\n",
              "    <tr>\n",
              "      <th>11</th>\n",
              "      <td>The Adventure of the Beryl Coronet</td>\n",
              "      <td>34</td>\n",
              "      <td>6</td>\n",
              "      <td>1</td>\n",
              "      <td>0</td>\n",
              "    </tr>\n",
              "    <tr>\n",
              "      <th>12</th>\n",
              "      <td>The Adventure of the Copper Beeches</td>\n",
              "      <td>35</td>\n",
              "      <td>6</td>\n",
              "      <td>1</td>\n",
              "      <td>0</td>\n",
              "    </tr>\n",
              "  </tbody>\n",
              "</table>\n",
              "</div>"
            ],
            "text/plain": [
              "                                hikayeler  ...  sayi_sayisi\n",
              "1                A Scandal in Bohemia! 01  ...            1\n",
              "2                 The Red-headed League,2  ...            0\n",
              "3                   A Case, of Identity33  ...            0\n",
              "4            The Boscombe Valley Mystery4  ...            0\n",
              "5                   The Five Orange Pips1  ...            0\n",
              "6           The Man with? the Twisted Lip  ...            0\n",
              "7     The Adventure of the Blue Carbuncle  ...            0\n",
              "8      The Adventure of the Speckled Band  ...            0\n",
              "9   The Adventure of the Engineer’s Thumb  ...            0\n",
              "10    The Adventure of the Noble Bachelor  ...            0\n",
              "11     The Adventure of the Beryl Coronet  ...            0\n",
              "12    The Adventure of the Copper Beeches  ...            0\n",
              "\n",
              "[12 rows x 5 columns]"
            ]
          },
          "metadata": {
            "tags": []
          },
          "execution_count": 53
        }
      ]
    }
  ]
}